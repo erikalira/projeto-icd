{
 "cells": [
  {
   "cell_type": "markdown",
   "id": "944bf076",
   "metadata": {},
   "source": [
    "# Análise do mercado de jogos na steam com foco em efetividade de custo  \n",
    "Integrantes:  \n",
    "Flávio Eduardo Souto Maior Serrano  \n",
    "Erika Janine Lira Dos Santos  \n",
    "Artur Luis Brito Gurjão  "
   ]
  },
  {
   "cell_type": "markdown",
   "id": "842cd573",
   "metadata": {},
   "source": [
    "# Introdução  \n",
    "O mercado de jogos eletrônicos vem crescendo e hoje é um grande mercado que segundo estimativas deve movimentar cerca de 200 bilhões de dólares até 2023, em outra frente temos que cada vez mais é necessário fazer análises de dados para que se possa ser bem sucedido no mercado e criar produtos que as pessoas realmente queiram comprar, tendo em vista esse contexto fizemos uma análise de um dos maiores marketplaces de jogos eletrônicos do mundo, a Steam, a nossa análise tem como objetivo criar um jogo muito popular e que a maioria das pessoas gostem, gastando a menor quantidade de dinheiro possível, essa estratégia vem se tornando cada vez mais popular como podemos ver com os jogos \"Indie\"."
   ]
  },
  {
   "cell_type": "markdown",
   "id": "8bfb9d4f",
   "metadata": {},
   "source": [
    "# Dados Utilizados\n",
    "Os dados utilizados foram encontrados no kaggle, as bases se tratam de dados extraidos pela api da steam que foram tratados"
   ]
  },
  {
   "cell_type": "markdown",
   "id": "ea924030",
   "metadata": {},
   "source": [
    "# Metodologia"
   ]
  },
  {
   "cell_type": "markdown",
   "id": "918573ee",
   "metadata": {},
   "source": [
    "## Pré-Processamento"
   ]
  },
  {
   "cell_type": "markdown",
   "id": "5413fc93",
   "metadata": {},
   "source": [
    "### • Importanto o pandas para o tratamento e visualização dos dados"
   ]
  },
  {
   "cell_type": "code",
   "execution_count": 1,
   "id": "baadfa20",
   "metadata": {},
   "outputs": [],
   "source": [
    "import pandas as pd"
   ]
  },
  {
   "cell_type": "markdown",
   "id": "4e9d59a3",
   "metadata": {},
   "source": [
    "### • Abrindo o dataset \"steam.csv\" através do read_csv"
   ]
  },
  {
   "cell_type": "code",
   "execution_count": 2,
   "id": "884641d1",
   "metadata": {},
   "outputs": [
    {
     "data": {
      "text/html": [
       "<div>\n",
       "<style scoped>\n",
       "    .dataframe tbody tr th:only-of-type {\n",
       "        vertical-align: middle;\n",
       "    }\n",
       "\n",
       "    .dataframe tbody tr th {\n",
       "        vertical-align: top;\n",
       "    }\n",
       "\n",
       "    .dataframe thead th {\n",
       "        text-align: right;\n",
       "    }\n",
       "</style>\n",
       "<table border=\"1\" class=\"dataframe\">\n",
       "  <thead>\n",
       "    <tr style=\"text-align: right;\">\n",
       "      <th></th>\n",
       "      <th>appid</th>\n",
       "      <th>name</th>\n",
       "      <th>release_date</th>\n",
       "      <th>english</th>\n",
       "      <th>developer</th>\n",
       "      <th>publisher</th>\n",
       "      <th>platforms</th>\n",
       "      <th>required_age</th>\n",
       "      <th>categories</th>\n",
       "      <th>genres</th>\n",
       "      <th>steamspy_tags</th>\n",
       "      <th>achievements</th>\n",
       "      <th>positive_ratings</th>\n",
       "      <th>negative_ratings</th>\n",
       "      <th>average_playtime</th>\n",
       "      <th>median_playtime</th>\n",
       "      <th>owners</th>\n",
       "      <th>price</th>\n",
       "    </tr>\n",
       "  </thead>\n",
       "  <tbody>\n",
       "    <tr>\n",
       "      <th>0</th>\n",
       "      <td>10</td>\n",
       "      <td>Counter-Strike</td>\n",
       "      <td>2000-11-01</td>\n",
       "      <td>1</td>\n",
       "      <td>Valve</td>\n",
       "      <td>Valve</td>\n",
       "      <td>windows;mac;linux</td>\n",
       "      <td>0</td>\n",
       "      <td>Multi-player;Online Multi-Player;Local Multi-P...</td>\n",
       "      <td>Action</td>\n",
       "      <td>Action;FPS;Multiplayer</td>\n",
       "      <td>0</td>\n",
       "      <td>124534</td>\n",
       "      <td>3339</td>\n",
       "      <td>17612</td>\n",
       "      <td>317</td>\n",
       "      <td>10000000-20000000</td>\n",
       "      <td>7.19</td>\n",
       "    </tr>\n",
       "    <tr>\n",
       "      <th>1</th>\n",
       "      <td>20</td>\n",
       "      <td>Team Fortress Classic</td>\n",
       "      <td>1999-04-01</td>\n",
       "      <td>1</td>\n",
       "      <td>Valve</td>\n",
       "      <td>Valve</td>\n",
       "      <td>windows;mac;linux</td>\n",
       "      <td>0</td>\n",
       "      <td>Multi-player;Online Multi-Player;Local Multi-P...</td>\n",
       "      <td>Action</td>\n",
       "      <td>Action;FPS;Multiplayer</td>\n",
       "      <td>0</td>\n",
       "      <td>3318</td>\n",
       "      <td>633</td>\n",
       "      <td>277</td>\n",
       "      <td>62</td>\n",
       "      <td>5000000-10000000</td>\n",
       "      <td>3.99</td>\n",
       "    </tr>\n",
       "    <tr>\n",
       "      <th>2</th>\n",
       "      <td>30</td>\n",
       "      <td>Day of Defeat</td>\n",
       "      <td>2003-05-01</td>\n",
       "      <td>1</td>\n",
       "      <td>Valve</td>\n",
       "      <td>Valve</td>\n",
       "      <td>windows;mac;linux</td>\n",
       "      <td>0</td>\n",
       "      <td>Multi-player;Valve Anti-Cheat enabled</td>\n",
       "      <td>Action</td>\n",
       "      <td>FPS;World War II;Multiplayer</td>\n",
       "      <td>0</td>\n",
       "      <td>3416</td>\n",
       "      <td>398</td>\n",
       "      <td>187</td>\n",
       "      <td>34</td>\n",
       "      <td>5000000-10000000</td>\n",
       "      <td>3.99</td>\n",
       "    </tr>\n",
       "    <tr>\n",
       "      <th>3</th>\n",
       "      <td>40</td>\n",
       "      <td>Deathmatch Classic</td>\n",
       "      <td>2001-06-01</td>\n",
       "      <td>1</td>\n",
       "      <td>Valve</td>\n",
       "      <td>Valve</td>\n",
       "      <td>windows;mac;linux</td>\n",
       "      <td>0</td>\n",
       "      <td>Multi-player;Online Multi-Player;Local Multi-P...</td>\n",
       "      <td>Action</td>\n",
       "      <td>Action;FPS;Multiplayer</td>\n",
       "      <td>0</td>\n",
       "      <td>1273</td>\n",
       "      <td>267</td>\n",
       "      <td>258</td>\n",
       "      <td>184</td>\n",
       "      <td>5000000-10000000</td>\n",
       "      <td>3.99</td>\n",
       "    </tr>\n",
       "    <tr>\n",
       "      <th>4</th>\n",
       "      <td>50</td>\n",
       "      <td>Half-Life: Opposing Force</td>\n",
       "      <td>1999-11-01</td>\n",
       "      <td>1</td>\n",
       "      <td>Gearbox Software</td>\n",
       "      <td>Valve</td>\n",
       "      <td>windows;mac;linux</td>\n",
       "      <td>0</td>\n",
       "      <td>Single-player;Multi-player;Valve Anti-Cheat en...</td>\n",
       "      <td>Action</td>\n",
       "      <td>FPS;Action;Sci-fi</td>\n",
       "      <td>0</td>\n",
       "      <td>5250</td>\n",
       "      <td>288</td>\n",
       "      <td>624</td>\n",
       "      <td>415</td>\n",
       "      <td>5000000-10000000</td>\n",
       "      <td>3.99</td>\n",
       "    </tr>\n",
       "  </tbody>\n",
       "</table>\n",
       "</div>"
      ],
      "text/plain": [
       "   appid                       name release_date  english         developer  \\\n",
       "0     10             Counter-Strike   2000-11-01        1             Valve   \n",
       "1     20      Team Fortress Classic   1999-04-01        1             Valve   \n",
       "2     30              Day of Defeat   2003-05-01        1             Valve   \n",
       "3     40         Deathmatch Classic   2001-06-01        1             Valve   \n",
       "4     50  Half-Life: Opposing Force   1999-11-01        1  Gearbox Software   \n",
       "\n",
       "  publisher          platforms  required_age  \\\n",
       "0     Valve  windows;mac;linux             0   \n",
       "1     Valve  windows;mac;linux             0   \n",
       "2     Valve  windows;mac;linux             0   \n",
       "3     Valve  windows;mac;linux             0   \n",
       "4     Valve  windows;mac;linux             0   \n",
       "\n",
       "                                          categories  genres  \\\n",
       "0  Multi-player;Online Multi-Player;Local Multi-P...  Action   \n",
       "1  Multi-player;Online Multi-Player;Local Multi-P...  Action   \n",
       "2              Multi-player;Valve Anti-Cheat enabled  Action   \n",
       "3  Multi-player;Online Multi-Player;Local Multi-P...  Action   \n",
       "4  Single-player;Multi-player;Valve Anti-Cheat en...  Action   \n",
       "\n",
       "                  steamspy_tags  achievements  positive_ratings  \\\n",
       "0        Action;FPS;Multiplayer             0            124534   \n",
       "1        Action;FPS;Multiplayer             0              3318   \n",
       "2  FPS;World War II;Multiplayer             0              3416   \n",
       "3        Action;FPS;Multiplayer             0              1273   \n",
       "4             FPS;Action;Sci-fi             0              5250   \n",
       "\n",
       "   negative_ratings  average_playtime  median_playtime             owners  \\\n",
       "0              3339             17612              317  10000000-20000000   \n",
       "1               633               277               62   5000000-10000000   \n",
       "2               398               187               34   5000000-10000000   \n",
       "3               267               258              184   5000000-10000000   \n",
       "4               288               624              415   5000000-10000000   \n",
       "\n",
       "   price  \n",
       "0   7.19  \n",
       "1   3.99  \n",
       "2   3.99  \n",
       "3   3.99  \n",
       "4   3.99  "
      ]
     },
     "execution_count": 2,
     "metadata": {},
     "output_type": "execute_result"
    }
   ],
   "source": [
    "df_steam = pd.read_csv(\"steam.csv\")\n",
    "df_steam.head()"
   ]
  },
  {
   "cell_type": "markdown",
   "id": "a26dc1f4",
   "metadata": {},
   "source": [
    "### • Transformando as datas do dataset no formato datetime do pandas que estão na coluna \"release_date\""
   ]
  },
  {
   "cell_type": "code",
   "execution_count": 3,
   "id": "628072ef",
   "metadata": {},
   "outputs": [],
   "source": [
    "df_steam_date = df_steam['release_date']\n",
    "df_steam_date = pd.to_datetime(df_steam_date)"
   ]
  },
  {
   "cell_type": "code",
   "execution_count": 4,
   "id": "fb17a1b3",
   "metadata": {},
   "outputs": [
    {
     "data": {
      "text/plain": [
       "0       2000-11-01\n",
       "1       1999-04-01\n",
       "2       2003-05-01\n",
       "3       2001-06-01\n",
       "4       1999-11-01\n",
       "           ...    \n",
       "27070   2019-04-24\n",
       "27071   2019-04-23\n",
       "27072   2019-04-24\n",
       "27073   2019-04-17\n",
       "27074   2019-04-24\n",
       "Name: release_date, Length: 27075, dtype: datetime64[ns]"
      ]
     },
     "execution_count": 4,
     "metadata": {},
     "output_type": "execute_result"
    }
   ],
   "source": [
    "df_steam['release_date'] = df_steam_date\n",
    "df_steam['release_date']"
   ]
  },
  {
   "cell_type": "markdown",
   "id": "6d2c60e8",
   "metadata": {},
   "source": [
    "### • Verificando se há dados nulos nas colunas e linhas"
   ]
  },
  {
   "cell_type": "code",
   "execution_count": 5,
   "id": "5b07edae",
   "metadata": {},
   "outputs": [
    {
     "data": {
      "text/plain": [
       "appid               0\n",
       "name                0\n",
       "release_date        0\n",
       "english             0\n",
       "developer           0\n",
       "publisher           0\n",
       "platforms           0\n",
       "required_age        0\n",
       "categories          0\n",
       "genres              0\n",
       "steamspy_tags       0\n",
       "achievements        0\n",
       "positive_ratings    0\n",
       "negative_ratings    0\n",
       "average_playtime    0\n",
       "median_playtime     0\n",
       "owners              0\n",
       "price               0\n",
       "dtype: int64"
      ]
     },
     "execution_count": 5,
     "metadata": {},
     "output_type": "execute_result"
    }
   ],
   "source": [
    "df_steam.isnull().sum(axis = 0)"
   ]
  },
  {
   "cell_type": "code",
   "execution_count": 6,
   "id": "c0aae0ab",
   "metadata": {},
   "outputs": [
    {
     "data": {
      "text/plain": [
       "0        0\n",
       "1        0\n",
       "2        0\n",
       "3        0\n",
       "4        0\n",
       "        ..\n",
       "27070    0\n",
       "27071    0\n",
       "27072    0\n",
       "27073    0\n",
       "27074    0\n",
       "Length: 27075, dtype: int64"
      ]
     },
     "execution_count": 6,
     "metadata": {},
     "output_type": "execute_result"
    }
   ],
   "source": [
    "df_steam.isnull().sum(axis = 1)"
   ]
  },
  {
   "cell_type": "markdown",
   "id": "e056483f",
   "metadata": {},
   "source": [
    "### • No dataset há a coluna \"owners\" onde indica por meio de lower bound e upper bound a quantidade de proprietários do jogo, mas foi indicado no dataset tratar esses dados como a média entre os 2.\n",
    "#### -> Através da função apply do pandas que aplica uma função para uma determinada coluna no dataset, foi passado um lambda x que percorre a coluna e separa os 2 valores que estão em formato de string através de split e transformando em inteiros, assim aplicando a fórmula de média"
   ]
  },
  {
   "cell_type": "code",
   "execution_count": 7,
   "id": "c36ff7c1",
   "metadata": {},
   "outputs": [
    {
     "data": {
      "text/plain": [
       "0        10000000-20000000\n",
       "1         5000000-10000000\n",
       "2         5000000-10000000\n",
       "3         5000000-10000000\n",
       "4         5000000-10000000\n",
       "               ...        \n",
       "27070              0-20000\n",
       "27071              0-20000\n",
       "27072              0-20000\n",
       "27073              0-20000\n",
       "27074              0-20000\n",
       "Name: owners, Length: 27075, dtype: object"
      ]
     },
     "execution_count": 7,
     "metadata": {},
     "output_type": "execute_result"
    }
   ],
   "source": [
    "df_steam['owners']"
   ]
  },
  {
   "cell_type": "code",
   "execution_count": 8,
   "id": "81da984a",
   "metadata": {},
   "outputs": [],
   "source": [
    "df_steam['owners'] = df_steam['owners'].apply(lambda x: (int(x.split('-')[0]) + int(x.split('-')[1]))/2)"
   ]
  },
  {
   "cell_type": "code",
   "execution_count": 9,
   "id": "376a6c20",
   "metadata": {},
   "outputs": [
    {
     "data": {
      "text/plain": [
       "0        15000000.0\n",
       "1         7500000.0\n",
       "2         7500000.0\n",
       "3         7500000.0\n",
       "4         7500000.0\n",
       "            ...    \n",
       "27070       10000.0\n",
       "27071       10000.0\n",
       "27072       10000.0\n",
       "27073       10000.0\n",
       "27074       10000.0\n",
       "Name: owners, Length: 27075, dtype: float64"
      ]
     },
     "execution_count": 9,
     "metadata": {},
     "output_type": "execute_result"
    }
   ],
   "source": [
    "df_steam['owners']"
   ]
  },
  {
   "cell_type": "markdown",
   "id": "e112aa0f",
   "metadata": {},
   "source": [
    "### • Foi necessário retirar uma linha do dataset pois foi observado que havia dados nulos"
   ]
  },
  {
   "cell_type": "code",
   "execution_count": 10,
   "id": "aab677c9",
   "metadata": {},
   "outputs": [],
   "source": [
    "df_steam = df_steam.drop(index=[6258,6259])"
   ]
  },
  {
   "cell_type": "markdown",
   "id": "e25923ac",
   "metadata": {},
   "source": [
    "### • A coluna \"platforms\" apresenta a plataforma em que o jogo é suportado, podendo ser windows, linux ou macOs. Para uma utilização mais \"limpa\" dessa coluna posteriormente foi necessário aplicar o método \"one hot encoding\" que transforma dados categóricos em forma binária através de novas colunas"
   ]
  },
  {
   "cell_type": "code",
   "execution_count": 11,
   "id": "ba450f3f",
   "metadata": {},
   "outputs": [
    {
     "data": {
      "text/plain": [
       "0        windows;mac;linux\n",
       "1        windows;mac;linux\n",
       "2        windows;mac;linux\n",
       "3        windows;mac;linux\n",
       "4        windows;mac;linux\n",
       "               ...        \n",
       "27070              windows\n",
       "27071              windows\n",
       "27072              windows\n",
       "27073          windows;mac\n",
       "27074          windows;mac\n",
       "Name: platforms, Length: 27073, dtype: object"
      ]
     },
     "execution_count": 11,
     "metadata": {},
     "output_type": "execute_result"
    }
   ],
   "source": [
    "df_steam[\"platforms\"]"
   ]
  },
  {
   "cell_type": "code",
   "execution_count": 12,
   "id": "5b837727",
   "metadata": {},
   "outputs": [
    {
     "data": {
      "text/html": [
       "<div>\n",
       "<style scoped>\n",
       "    .dataframe tbody tr th:only-of-type {\n",
       "        vertical-align: middle;\n",
       "    }\n",
       "\n",
       "    .dataframe tbody tr th {\n",
       "        vertical-align: top;\n",
       "    }\n",
       "\n",
       "    .dataframe thead th {\n",
       "        text-align: right;\n",
       "    }\n",
       "</style>\n",
       "<table border=\"1\" class=\"dataframe\">\n",
       "  <thead>\n",
       "    <tr style=\"text-align: right;\">\n",
       "      <th></th>\n",
       "      <th>windows</th>\n",
       "      <th>linux</th>\n",
       "      <th>mac</th>\n",
       "    </tr>\n",
       "  </thead>\n",
       "  <tbody>\n",
       "    <tr>\n",
       "      <th>0</th>\n",
       "      <td>1</td>\n",
       "      <td>1</td>\n",
       "      <td>1</td>\n",
       "    </tr>\n",
       "    <tr>\n",
       "      <th>1</th>\n",
       "      <td>1</td>\n",
       "      <td>1</td>\n",
       "      <td>1</td>\n",
       "    </tr>\n",
       "    <tr>\n",
       "      <th>2</th>\n",
       "      <td>1</td>\n",
       "      <td>1</td>\n",
       "      <td>1</td>\n",
       "    </tr>\n",
       "    <tr>\n",
       "      <th>3</th>\n",
       "      <td>1</td>\n",
       "      <td>1</td>\n",
       "      <td>1</td>\n",
       "    </tr>\n",
       "    <tr>\n",
       "      <th>4</th>\n",
       "      <td>1</td>\n",
       "      <td>1</td>\n",
       "      <td>1</td>\n",
       "    </tr>\n",
       "    <tr>\n",
       "      <th>...</th>\n",
       "      <td>...</td>\n",
       "      <td>...</td>\n",
       "      <td>...</td>\n",
       "    </tr>\n",
       "    <tr>\n",
       "      <th>27070</th>\n",
       "      <td>1</td>\n",
       "      <td>0</td>\n",
       "      <td>0</td>\n",
       "    </tr>\n",
       "    <tr>\n",
       "      <th>27071</th>\n",
       "      <td>1</td>\n",
       "      <td>0</td>\n",
       "      <td>0</td>\n",
       "    </tr>\n",
       "    <tr>\n",
       "      <th>27072</th>\n",
       "      <td>1</td>\n",
       "      <td>0</td>\n",
       "      <td>0</td>\n",
       "    </tr>\n",
       "    <tr>\n",
       "      <th>27073</th>\n",
       "      <td>1</td>\n",
       "      <td>0</td>\n",
       "      <td>1</td>\n",
       "    </tr>\n",
       "    <tr>\n",
       "      <th>27074</th>\n",
       "      <td>1</td>\n",
       "      <td>0</td>\n",
       "      <td>1</td>\n",
       "    </tr>\n",
       "  </tbody>\n",
       "</table>\n",
       "<p>27073 rows × 3 columns</p>\n",
       "</div>"
      ],
      "text/plain": [
       "       windows  linux  mac\n",
       "0            1      1    1\n",
       "1            1      1    1\n",
       "2            1      1    1\n",
       "3            1      1    1\n",
       "4            1      1    1\n",
       "...        ...    ...  ...\n",
       "27070        1      0    0\n",
       "27071        1      0    0\n",
       "27072        1      0    0\n",
       "27073        1      0    1\n",
       "27074        1      0    1\n",
       "\n",
       "[27073 rows x 3 columns]"
      ]
     },
     "execution_count": 12,
     "metadata": {},
     "output_type": "execute_result"
    }
   ],
   "source": [
    "df_steam[\"windows\"]=[1 if \"windows\" in x else 0 for x in df_steam[\"platforms\"]]\n",
    "df_steam[\"linux\"]=[1 if \"linux\" in x else 0 for x in df_steam[\"platforms\"]]\n",
    "df_steam[\"mac\"]=[1 if \"mac\" in x else 0 for x in df_steam[\"platforms\"]]\n",
    "df_steam[['windows','linux','mac']]"
   ]
  },
  {
   "cell_type": "markdown",
   "id": "c729df30",
   "metadata": {},
   "source": [
    "### • Adicionando 2 novas colunas: porcentagem de avaliações positivas e total de avaliações. Para isso foi utilizado as colunas \"positive_ratings\" e \"negative_ratings\""
   ]
  },
  {
   "cell_type": "code",
   "execution_count": 13,
   "id": "a7b90aa0",
   "metadata": {},
   "outputs": [
    {
     "data": {
      "text/html": [
       "<div>\n",
       "<style scoped>\n",
       "    .dataframe tbody tr th:only-of-type {\n",
       "        vertical-align: middle;\n",
       "    }\n",
       "\n",
       "    .dataframe tbody tr th {\n",
       "        vertical-align: top;\n",
       "    }\n",
       "\n",
       "    .dataframe thead th {\n",
       "        text-align: right;\n",
       "    }\n",
       "</style>\n",
       "<table border=\"1\" class=\"dataframe\">\n",
       "  <thead>\n",
       "    <tr style=\"text-align: right;\">\n",
       "      <th></th>\n",
       "      <th>rating</th>\n",
       "      <th>totalRatings</th>\n",
       "    </tr>\n",
       "  </thead>\n",
       "  <tbody>\n",
       "    <tr>\n",
       "      <th>0</th>\n",
       "      <td>97.388815</td>\n",
       "      <td>127873</td>\n",
       "    </tr>\n",
       "    <tr>\n",
       "      <th>1</th>\n",
       "      <td>83.978740</td>\n",
       "      <td>3951</td>\n",
       "    </tr>\n",
       "    <tr>\n",
       "      <th>2</th>\n",
       "      <td>89.564761</td>\n",
       "      <td>3814</td>\n",
       "    </tr>\n",
       "    <tr>\n",
       "      <th>3</th>\n",
       "      <td>82.662338</td>\n",
       "      <td>1540</td>\n",
       "    </tr>\n",
       "    <tr>\n",
       "      <th>4</th>\n",
       "      <td>94.799567</td>\n",
       "      <td>5538</td>\n",
       "    </tr>\n",
       "    <tr>\n",
       "      <th>...</th>\n",
       "      <td>...</td>\n",
       "      <td>...</td>\n",
       "    </tr>\n",
       "    <tr>\n",
       "      <th>27070</th>\n",
       "      <td>100.000000</td>\n",
       "      <td>3</td>\n",
       "    </tr>\n",
       "    <tr>\n",
       "      <th>27071</th>\n",
       "      <td>88.888889</td>\n",
       "      <td>9</td>\n",
       "    </tr>\n",
       "    <tr>\n",
       "      <th>27072</th>\n",
       "      <td>0.000000</td>\n",
       "      <td>1</td>\n",
       "    </tr>\n",
       "    <tr>\n",
       "      <th>27073</th>\n",
       "      <td>100.000000</td>\n",
       "      <td>2</td>\n",
       "    </tr>\n",
       "    <tr>\n",
       "      <th>27074</th>\n",
       "      <td>100.000000</td>\n",
       "      <td>4</td>\n",
       "    </tr>\n",
       "  </tbody>\n",
       "</table>\n",
       "<p>27073 rows × 2 columns</p>\n",
       "</div>"
      ],
      "text/plain": [
       "           rating  totalRatings\n",
       "0       97.388815        127873\n",
       "1       83.978740          3951\n",
       "2       89.564761          3814\n",
       "3       82.662338          1540\n",
       "4       94.799567          5538\n",
       "...           ...           ...\n",
       "27070  100.000000             3\n",
       "27071   88.888889             9\n",
       "27072    0.000000             1\n",
       "27073  100.000000             2\n",
       "27074  100.000000             4\n",
       "\n",
       "[27073 rows x 2 columns]"
      ]
     },
     "execution_count": 13,
     "metadata": {},
     "output_type": "execute_result"
    }
   ],
   "source": [
    "df_steam[\"rating\"]=df_steam[\"positive_ratings\"]/(df_steam[\"positive_ratings\"]+df_steam[\"negative_ratings\"])*100\n",
    "df_steam[\"totalRatings\"]=df_steam[\"positive_ratings\"]+df_steam[\"negative_ratings\"]\n",
    "df_steam[['rating', 'totalRatings']]"
   ]
  },
  {
   "cell_type": "markdown",
   "id": "e64559d4",
   "metadata": {},
   "source": [
    "## Perguntas"
   ]
  },
  {
   "cell_type": "markdown",
   "id": "3e0e9394",
   "metadata": {},
   "source": [
    "### • Como é a distribuição de preços dos jogos?\n",
    "#### -> Foi criado um gráfico de barras para visualização da média, mediana e desvio padrão dos preços dos jogos que estão contidos na coluna \"prices\".\n",
    "#### -> Necessário a importação do numpy para as funções matemáticas e o matplotlib para plotagem do gráfico"
   ]
  },
  {
   "cell_type": "code",
   "execution_count": 14,
   "id": "8640b706",
   "metadata": {},
   "outputs": [],
   "source": [
    "import numpy as np\n",
    "import matplotlib.pyplot as plt"
   ]
  },
  {
   "cell_type": "markdown",
   "id": "5d978381",
   "metadata": {},
   "source": [
    "#### -> Utilização dos métodos que facilitam a extração da média, mediana e desvio padrão do numpy: mean, nanmedian, std\n",
    "#### -> Foi utilizado um laço para designação do nome das barras no gráfico através da iteração da lista que contém os métodos supracitados"
   ]
  },
  {
   "cell_type": "code",
   "execution_count": 15,
   "id": "6fc84c45",
   "metadata": {},
   "outputs": [
    {
     "data": {
      "image/png": "[encoded data removed]",
      "text/plain": [
       "<Figure size 432x288 with 1 Axes>"
      ]
     },
     "metadata": {
      "needs_background": "light"
     },
     "output_type": "display_data"
    }
   ],
   "source": [
    "x = [\"Média\", \"Mediana\", \"Desvio Padrão\"]\n",
    "y = [np.mean(df_steam['price']), np.nanmedian(df_steam['price']), np.std(df_steam['price'])]\n",
    "plt.barh(x, y)\n",
    "\n",
    "for index, value in enumerate(y):\n",
    "    plt.text(value, index, str(value)[:3])\n",
    "plt.title(\"Price\")\n",
    "plt.show()"
   ]
  },
  {
   "cell_type": "markdown",
   "id": "50bf2f50",
   "metadata": {},
   "source": [
    "### • Quais os jogos com mais avaliações positivas?\n",
    "#### -> Uma variável nova foi atribuída para armazenar um corte do dataset original onde contém apenas as colunas \"name\"(nomes dos jogos) e \"positive ratings\"(avaliações positivas)\n",
    "#### -> A função sort_values ordena as linhas em forma de ascendência(ascending=False faz ordenar os dados dos maiores valores para os menores)\n",
    "#### -> Função loc seleciona apenas as linhas e colunas necessárias, no nosso caso, pegamos apenas os 7 primeiros jogos para melhor visualização dos dados nos gráficos"
   ]
  },
  {
   "cell_type": "code",
   "execution_count": 16,
   "id": "5cd6647b",
   "metadata": {},
   "outputs": [
    {
     "data": {
      "text/html": [
       "<div>\n",
       "<style scoped>\n",
       "    .dataframe tbody tr th:only-of-type {\n",
       "        vertical-align: middle;\n",
       "    }\n",
       "\n",
       "    .dataframe tbody tr th {\n",
       "        vertical-align: top;\n",
       "    }\n",
       "\n",
       "    .dataframe thead th {\n",
       "        text-align: right;\n",
       "    }\n",
       "</style>\n",
       "<table border=\"1\" class=\"dataframe\">\n",
       "  <thead>\n",
       "    <tr style=\"text-align: right;\">\n",
       "      <th></th>\n",
       "      <th>index</th>\n",
       "      <th>name</th>\n",
       "      <th>positive_ratings</th>\n",
       "    </tr>\n",
       "  </thead>\n",
       "  <tbody>\n",
       "    <tr>\n",
       "      <th>0</th>\n",
       "      <td>25</td>\n",
       "      <td>Counter-Strike: Global Offensive</td>\n",
       "      <td>2644404</td>\n",
       "    </tr>\n",
       "    <tr>\n",
       "      <th>1</th>\n",
       "      <td>22</td>\n",
       "      <td>Dota 2</td>\n",
       "      <td>863507</td>\n",
       "    </tr>\n",
       "    <tr>\n",
       "      <th>2</th>\n",
       "      <td>19</td>\n",
       "      <td>Team Fortress 2</td>\n",
       "      <td>515879</td>\n",
       "    </tr>\n",
       "    <tr>\n",
       "      <th>3</th>\n",
       "      <td>12836</td>\n",
       "      <td>PLAYERUNKNOWN'S BATTLEGROUNDS</td>\n",
       "      <td>496184</td>\n",
       "    </tr>\n",
       "    <tr>\n",
       "      <th>4</th>\n",
       "      <td>121</td>\n",
       "      <td>Garry's Mod</td>\n",
       "      <td>363721</td>\n",
       "    </tr>\n",
       "    <tr>\n",
       "      <th>5</th>\n",
       "      <td>2478</td>\n",
       "      <td>Grand Theft Auto V</td>\n",
       "      <td>329061</td>\n",
       "    </tr>\n",
       "    <tr>\n",
       "      <th>6</th>\n",
       "      <td>1467</td>\n",
       "      <td>PAYDAY 2</td>\n",
       "      <td>308657</td>\n",
       "    </tr>\n",
       "  </tbody>\n",
       "</table>\n",
       "</div>"
      ],
      "text/plain": [
       "   index                              name  positive_ratings\n",
       "0     25  Counter-Strike: Global Offensive           2644404\n",
       "1     22                            Dota 2            863507\n",
       "2     19                   Team Fortress 2            515879\n",
       "3  12836     PLAYERUNKNOWN'S BATTLEGROUNDS            496184\n",
       "4    121                       Garry's Mod            363721\n",
       "5   2478                Grand Theft Auto V            329061\n",
       "6   1467                          PAYDAY 2            308657"
      ]
     },
     "execution_count": 16,
     "metadata": {},
     "output_type": "execute_result"
    }
   ],
   "source": [
    "steam_cut = df_steam[['name','positive_ratings']]\n",
    "steam_cut = steam_cut.sort_values('positive_ratings', ascending=False).reset_index()\n",
    "steam_cut = steam_cut.loc[:6,:]\n",
    "steam_cut"
   ]
  },
  {
   "cell_type": "markdown",
   "id": "f836d024",
   "metadata": {},
   "source": [
    "#### -> Para plotagem dos gráficos utilizamos a biblioteca do seaborn"
   ]
  },
  {
   "cell_type": "code",
   "execution_count": 17,
   "id": "62bdef15",
   "metadata": {},
   "outputs": [],
   "source": [
    "import seaborn as sns"
   ]
  },
  {
   "cell_type": "markdown",
   "id": "2813f8a3",
   "metadata": {},
   "source": [
    "#### -> Em conjunto com o matplotlib, podemos editar o tamanho do gráfico conforme desejado utilizando o figsize.\n",
    "#### -> Também alteramos o título e os rótulos X e Y."
   ]
  },
  {
   "cell_type": "code",
   "execution_count": 18,
   "id": "c99686f0",
   "metadata": {},
   "outputs": [
    {
     "data": {
      "image/png": "[encoded data removed]",
      "text/plain": [
       "<Figure size 1440x432 with 1 Axes>"
      ]
     },
     "metadata": {
      "needs_background": "light"
     },
     "output_type": "display_data"
    }
   ],
   "source": [
    "fig, ax = plt.subplots(figsize=(20,6))\n",
    "ax = sns.barplot(x=\"name\", y=\"positive_ratings\", data=steam_cut)\n",
    "plt.title('The 7 best rated games', fontsize=20)\n",
    "plt.xlabel('Game name', fontsize=18)\n",
    "plt.ylabel('Positive Ratings', fontsize=16)\n",
    "plt.show()"
   ]
  },
  {
   "cell_type": "markdown",
   "id": "2457fb80",
   "metadata": {},
   "source": [
    "### • Como foi o crescimento da quantidade de jogos lançados por ano na steam?"
   ]
  },
  {
   "cell_type": "markdown",
   "id": "c7661dd5",
   "metadata": {},
   "source": [
    "#### -> Foram importados as funções Counter e OrderedDict da biblioteca collections.\n",
    "#### -> Essas 2 funções nos ajudam na contagem de dados únicos num dicionários."
   ]
  },
  {
   "cell_type": "code",
   "execution_count": 19,
   "id": "c8389746",
   "metadata": {},
   "outputs": [],
   "source": [
    "from collections import Counter, OrderedDict"
   ]
  },
  {
   "cell_type": "markdown",
   "id": "cfbe2b3f",
   "metadata": {},
   "source": [
    "#### -> Foi atribuído a variável data_count um dicionário onde foi armazenado através de um laço o ano de lançamento de cada jogo na steam.\n",
    "#### -> Em keys foi armazenado através do Counter os diferentes tipos de anos que estão contidos no dataset(vai de 1997 à 2019. \n",
    "#### -> Em values foi armazenado a quantidade de jogos lançados por cada ano."
   ]
  },
  {
   "cell_type": "code",
   "execution_count": 21,
   "id": "d931111a",
   "metadata": {},
   "outputs": [],
   "source": [
    "date_count = {}\n",
    "\n",
    "date_count = [str(x).split('-')[0] for x in df_steam['release_date']]\n",
    "keys = Counter(date_count).keys()\n",
    "values = Counter(date_count).values()"
   ]
  },
  {
   "cell_type": "code",
   "execution_count": 22,
   "id": "3e08af56",
   "metadata": {},
   "outputs": [
    {
     "data": {
      "text/plain": [
       "dict_keys(['2000', '1999', '2003', '2001', '1998', '2004', '2010', '2005', '2006', '2007', '2008', '2009', '2013', '2011', '2012', '2014', '2018', '2015', '2017', '2016', '2002', '2019', '1997'])"
      ]
     },
     "execution_count": 22,
     "metadata": {},
     "output_type": "execute_result"
    }
   ],
   "source": [
    "keys"
   ]
  },
  {
   "cell_type": "code",
   "execution_count": 23,
   "id": "8a4a42b0",
   "metadata": {},
   "outputs": [
    {
     "data": {
      "text/plain": [
       "dict_values([2, 2, 3, 4, 1, 6, 238, 6, 48, 93, 145, 305, 418, 239, 320, 1555, 8160, 2596, 6356, 4361, 1, 2213, 1])"
      ]
     },
     "execution_count": 23,
     "metadata": {},
     "output_type": "execute_result"
    }
   ],
   "source": [
    "values"
   ]
  },
  {
   "cell_type": "markdown",
   "id": "4fae9647",
   "metadata": {},
   "source": [
    "#### -> A função zip em conjunto com o dict cria um dicionário relacionando cada valor a seu ano, após isso utilizamos o sorted para ordenar o dicionário de acordo com o ano, indo do menor para o maior, de 1997 à 2019."
   ]
  },
  {
   "cell_type": "code",
   "execution_count": 24,
   "id": "b0e5f081",
   "metadata": {},
   "outputs": [],
   "source": [
    "dict_date_count = dict(zip(keys, values))\n",
    "dict_date_count = {int(k):v for k,v in dict_date_count.items()}\n",
    "\n",
    "dict_date_count = OrderedDict(sorted(dict_date_count.items()))\n",
    "dict_date_count = dict(dict_date_count)"
   ]
  },
  {
   "cell_type": "code",
   "execution_count": 25,
   "id": "181ea0bd",
   "metadata": {},
   "outputs": [
    {
     "data": {
      "text/plain": [
       "{1997: 1,\n",
       " 1998: 1,\n",
       " 1999: 2,\n",
       " 2000: 2,\n",
       " 2001: 4,\n",
       " 2002: 1,\n",
       " 2003: 3,\n",
       " 2004: 6,\n",
       " 2005: 6,\n",
       " 2006: 48,\n",
       " 2007: 93,\n",
       " 2008: 145,\n",
       " 2009: 305,\n",
       " 2010: 238,\n",
       " 2011: 239,\n",
       " 2012: 320,\n",
       " 2013: 418,\n",
       " 2014: 1555,\n",
       " 2015: 2596,\n",
       " 2016: 4361,\n",
       " 2017: 6356,\n",
       " 2018: 8160,\n",
       " 2019: 2213}"
      ]
     },
     "execution_count": 25,
     "metadata": {},
     "output_type": "execute_result"
    }
   ],
   "source": [
    "dict_date_count"
   ]
  },
  {
   "cell_type": "markdown",
   "id": "346ce39f",
   "metadata": {},
   "source": [
    "#### -> Plotagem do gráfico de linha com matplotlib"
   ]
  },
  {
   "cell_type": "code",
   "execution_count": 26,
   "id": "9d828a1f",
   "metadata": {},
   "outputs": [
    {
     "data": {
      "image/png": "[encoded data removed]",
      "text/plain": [
       "<Figure size 936x432 with 1 Axes>"
      ]
     },
     "metadata": {
      "needs_background": "light"
     },
     "output_type": "display_data"
    }
   ],
   "source": [
    "plt.subplots(figsize=(13,6))\n",
    "plt.plot(range(len(dict_date_count)), list(dict_date_count.values()))\n",
    "plt.xticks(range(len(dict_date_count)), list(dict_date_count.keys()))\n",
    "plt.title('Game releases per year on steam since 1997', fontsize=20)\n",
    "plt.xlabel('Years', fontsize=18)\n",
    "plt.ylabel('Number of games', fontsize=16)\n",
    "\n",
    "plt.show()"
   ]
  },
  {
   "cell_type": "markdown",
   "id": "67141479",
   "metadata": {},
   "source": [
    "#### -> Observa-se no gráfico uma queda de lançamento de jogos no ano de 2019, isso acontece devido ao dataset ter dados de até alguns mêses de 2019."
   ]
  },
  {
   "cell_type": "markdown",
   "id": "e669c5cb",
   "metadata": {},
   "source": [
    "# É possível prever o número de owners de um jogo baseado na classificação ou no preço?"
   ]
  },
  {
   "cell_type": "code",
   "execution_count": 32,
   "id": "f6c1acd9",
   "metadata": {},
   "outputs": [],
   "source": [
    "from sklearn import datasets, linear_model"
   ]
  },
  {
   "cell_type": "code",
   "execution_count": 45,
   "id": "2b51f560",
   "metadata": {},
   "outputs": [
    {
     "name": "stdout",
     "output_type": "stream",
     "text": [
      "0.0012363988220204236\n"
     ]
    },
    {
     "data": {
      "image/png": "[encoded data removed]",
      "text/plain": [
       "<Figure size 432x288 with 1 Axes>"
      ]
     },
     "metadata": {},
     "output_type": "display_data"
    }
   ],
   "source": [
    "x=df_steam['rating'].values.reshape(-1, 1)\n",
    "y=df_steam['owners'].values.reshape(-1, 1)\n",
    "\n",
    "regr = linear_model.LinearRegression()\n",
    "regr.fit(x, y)\n",
    "print(regr.score(x, y))\n",
    "# plot it as in the example at http://scikit-learn.org/\n",
    "plt.scatter(x, y,  color='black')\n",
    "plt.plot(x, regr.predict(x), color='blue', linewidth=3)\n",
    "plt.xticks(())\n",
    "plt.yticks(())\n",
    "plt.show()"
   ]
  },
  {
   "cell_type": "code",
   "execution_count": 46,
   "id": "5fa86a45",
   "metadata": {},
   "outputs": [
    {
     "name": "stdout",
     "output_type": "stream",
     "text": [
      "0.0009655484983606133\n"
     ]
    },
    {
     "data": {
      "image/png": "[encoded data removed]",
      "text/plain": [
       "<Figure size 432x288 with 1 Axes>"
      ]
     },
     "metadata": {},
     "output_type": "display_data"
    }
   ],
   "source": [
    "x=df_steam['price'].values.reshape(-1, 1)\n",
    "y=df_steam['owners'].values.reshape(-1, 1)\n",
    "\n",
    "regr = linear_model.LinearRegression()\n",
    "regr.fit(x, y)\n",
    "print(regr.score(x, y))\n",
    "# plot it as in the example at http://scikit-learn.org/\n",
    "plt.scatter(x, y,  color='black')\n",
    "plt.plot(x, regr.predict(x), color='blue', linewidth=3)\n",
    "plt.xticks(())\n",
    "plt.yticks(())\n",
    "plt.show()"
   ]
  },
  {
   "cell_type": "markdown",
   "id": "5a8ac666",
   "metadata": {},
   "source": [
    "Podemos identificar pelo score da regressão linear que a rating pode ser um indicador melhor que o preço para se o jogo será muito comprado, porém nenhuma das duas métricas tem uma relação proxima a linear com o número de owners, Como podemos ver nos gráficos isso se deve a um grande número de outliers que de certa forma poluem a análise, porém demonstram certa randomicidade do \"sucesso\" dos jogos que é ter muitos jogadores."
   ]
  },
  {
   "cell_type": "markdown",
   "id": "46a222e3",
   "metadata": {},
   "source": [
    "### Filtrando os outliers "
   ]
  },
  {
   "cell_type": "markdown",
   "id": "af2c7fb3",
   "metadata": {},
   "source": [
    "Aqui filtramos outliers de cada varíavel envolvida para buscar algum padrão"
   ]
  },
  {
   "cell_type": "code",
   "execution_count": 72,
   "id": "619185c2",
   "metadata": {},
   "outputs": [
    {
     "name": "stdout",
     "output_type": "stream",
     "text": [
      "27073\n",
      "26609\n",
      "26539\n",
      "25875\n"
     ]
    }
   ],
   "source": [
    "print(len(df_steam))\n",
    "df_filtered=df_steam[np.abs(df_steam.price-df_steam.price.mean())<=(3*df_steam.price.std())]\n",
    "print(len(df_filtered))\n",
    "df_filtered=df_filtered[np.abs(df_filtered.owners-df_filtered.owners.mean())<=(3*df_filtered.owners.std())]\n",
    "print(len(df_filtered))\n",
    "df_filtered=df_filtered[np.abs(df_filtered.rating-df_filtered.rating.mean())<=(3*df_filtered.rating.std())]\n",
    "print(len(df_filtered))"
   ]
  },
  {
   "cell_type": "code",
   "execution_count": 74,
   "id": "22722a83",
   "metadata": {},
   "outputs": [
    {
     "name": "stdout",
     "output_type": "stream",
     "text": [
      "0.004380226207545079\n"
     ]
    },
    {
     "data": {
      "image/png": "[encoded data removed]",
      "text/plain": [
       "<Figure size 432x288 with 1 Axes>"
      ]
     },
     "metadata": {},
     "output_type": "display_data"
    }
   ],
   "source": [
    "x=df_filtered['rating'].values.reshape(-1, 1)\n",
    "y=df_filtered['owners'].values.reshape(-1, 1)\n",
    "\n",
    "regr = linear_model.LinearRegression()\n",
    "regr.fit(x, y)\n",
    "print(regr.score(x, y))\n",
    "# plot it as in the example at http://scikit-learn.org/\n",
    "plt.scatter(x, y,  color='black')\n",
    "plt.plot(x, regr.predict(x), color='blue', linewidth=3)\n",
    "plt.xticks(())\n",
    "plt.yticks(())\n",
    "plt.show()"
   ]
  },
  {
   "cell_type": "code",
   "execution_count": 76,
   "id": "e85277e5",
   "metadata": {},
   "outputs": [
    {
     "name": "stdout",
     "output_type": "stream",
     "text": [
      "0.009467122238542292\n"
     ]
    },
    {
     "data": {
      "image/png": "[encoded data removed]",
      "text/plain": [
       "<Figure size 432x288 with 1 Axes>"
      ]
     },
     "metadata": {},
     "output_type": "display_data"
    }
   ],
   "source": [
    "x=df_filtered['price'].values.reshape(-1, 1)\n",
    "y=df_filtered['owners'].values.reshape(-1, 1)\n",
    "\n",
    "regr = linear_model.LinearRegression()\n",
    "regr.fit(x, y)\n",
    "print(regr.score(x, y))\n",
    "# plot it as in the example at http://scikit-learn.org/\n",
    "plt.scatter(x, y,  color='black')\n",
    "plt.plot(x, regr.predict(x), color='blue', linewidth=3)\n",
    "plt.xticks(())\n",
    "plt.yticks(())\n",
    "plt.show()"
   ]
  },
  {
   "cell_type": "markdown",
   "id": "2e393132",
   "metadata": {},
   "source": [
    "Nesse ponto concluímos que não seria um problema efeito apenas de outliers, mas sim da própria natureza variável dos dados que trabalhamos. O score da regressão com rating obteve alguma melhora com a filtragem, porém mesmo com esse viés não podemos afirmar que exista alguma relação linear entre as variáveis que possamos usar para prever a popularidade de um determinado jogo."
   ]
  },
  {
   "cell_type": "markdown",
   "id": "d67e1e39",
   "metadata": {},
   "source": [
    "## Conclusão"
   ]
  },
  {
   "cell_type": "markdown",
   "id": "12f76274",
   "metadata": {},
   "source": [
    "Podemos concluir a partir deste trabalho que a análise de dados é de extrema importância para análises de mercado. No nosso caso conseguimos extrair muitas informações interessantes que podem ser usadas tanto para stakeholders de empresas de jogos tomares decisões baseadas em dados do mercado, quanto para desenvolvedores em busca de tornar seus jogos mais vendíveis. Conforme exploramos os dados encontramos algumas limitações como a desigualdade nas métricas da base, talvez uma análise focando em nichos específicos de jogos fosse mais interessante dependendo da necessidade de negócio, um trabalho futuro interessante seria utilizar a base de reviews com tecnologias de Natural Language Processing (NLP) para agregar medidas de satisfação com os jogos na base da Steam, esse era o intúito inicial porém saia um pouco do escopo do projeto."
   ]
  }
 ],
 "metadata": {
  "kernelspec": {
   "display_name": "Python 3 (ipykernel)",
   "language": "python",
   "name": "python3"
  },
  "language_info": {
   "codemirror_mode": {
    "name": "ipython",
    "version": 3
   },
   "file_extension": ".py",
   "mimetype": "text/x-python",
   "name": "python",
   "nbconvert_exporter": "python",
   "pygments_lexer": "ipython3",
   "version": "3.9.1"
  }
 },
 "nbformat": 4,
 "nbformat_minor": 5
}
