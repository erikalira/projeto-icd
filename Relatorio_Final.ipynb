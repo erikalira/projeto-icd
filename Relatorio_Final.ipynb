{
 "cells": [
  {
   "cell_type": "markdown",
   "metadata": {},
   "source": [
    "# Análise do mercado de jogos na steam com foco em efetividade de custo  \n",
    "Integrantes:  \n",
    "Flávio Eduardo Souto Maior Serrano  \n",
    "Erika Janine Lira Dos Santos  \n",
    "Artur Luis Brito Gurjão  "
   ]
  },
  {
   "cell_type": "markdown",
   "metadata": {},
   "source": [
    "# Introdução  \n",
    "O mercado de jogos eletrônicos vem crescendo e hoje é um grande mercado que segundo estimativas deve movimentar cerca de 200 bilhões de dólares até 2023, em outra frente temos que cada vez mais é necessário fazer análises de dados para que se possa ser bem sucedido no mercado e criar produtos que as pessoas realmente queiram comprar, tendo em vista esse contexto fizemos uma análise de um dos maiores marketplaces de jogos eletrônicos do mundo, a Steam, a nossa análise tem como objetivo criar um jogo muito popular e que a maioria das pessoas gostem, gastando a menor quantidade de dinheiro possível, essa estratégia vem se tornando cada vez mais popular como podemos ver com os jogos \"Indie\"."
   ]
  },
  {
   "cell_type": "markdown",
   "metadata": {},
   "source": [
    "# Dados Utilizados\n",
    "Os dados utilizados foram encontrados no kaggle, as bases se tratam de dados extraidos pela api da steam que foram tratados"
   ]
  },
  {
   "cell_type": "markdown",
   "metadata": {},
   "source": [
    "# Metodologia"
   ]
  },
  {
   "cell_type": "markdown",
   "metadata": {},
   "source": [
    "## Pré-Processamento"
   ]
  },
  {
   "cell_type": "markdown",
   "metadata": {},
   "source": [
    "### • Importanto o pandas para o tratamento e visualização dos dados"
   ]
  },
  {
   "cell_type": "code",
   "execution_count": 21,
   "metadata": {},
   "outputs": [],
   "source": [
    "import pandas as pd"
   ]
  },
  {
   "cell_type": "markdown",
   "metadata": {},
   "source": [
    "### • Abrindo o dataset \"steam.csv\" através do read_csv"
   ]
  },
  {
   "cell_type": "code",
   "execution_count": 22,
   "metadata": {},
   "outputs": [
    {
     "data": {
      "text/html": [
       "<div>\n",
       "<style scoped>\n",
       "    .dataframe tbody tr th:only-of-type {\n",
       "        vertical-align: middle;\n",
       "    }\n",
       "\n",
       "    .dataframe tbody tr th {\n",
       "        vertical-align: top;\n",
       "    }\n",
       "\n",
       "    .dataframe thead th {\n",
       "        text-align: right;\n",
       "    }\n",
       "</style>\n",
       "<table border=\"1\" class=\"dataframe\">\n",
       "  <thead>\n",
       "    <tr style=\"text-align: right;\">\n",
       "      <th></th>\n",
       "      <th>appid</th>\n",
       "      <th>name</th>\n",
       "      <th>release_date</th>\n",
       "      <th>english</th>\n",
       "      <th>developer</th>\n",
       "      <th>publisher</th>\n",
       "      <th>platforms</th>\n",
       "      <th>required_age</th>\n",
       "      <th>categories</th>\n",
       "      <th>genres</th>\n",
       "      <th>steamspy_tags</th>\n",
       "      <th>achievements</th>\n",
       "      <th>positive_ratings</th>\n",
       "      <th>negative_ratings</th>\n",
       "      <th>average_playtime</th>\n",
       "      <th>median_playtime</th>\n",
       "      <th>owners</th>\n",
       "      <th>price</th>\n",
       "    </tr>\n",
       "  </thead>\n",
       "  <tbody>\n",
       "    <tr>\n",
       "      <th>0</th>\n",
       "      <td>10</td>\n",
       "      <td>Counter-Strike</td>\n",
       "      <td>2000-11-01</td>\n",
       "      <td>1</td>\n",
       "      <td>Valve</td>\n",
       "      <td>Valve</td>\n",
       "      <td>windows;mac;linux</td>\n",
       "      <td>0</td>\n",
       "      <td>Multi-player;Online Multi-Player;Local Multi-P...</td>\n",
       "      <td>Action</td>\n",
       "      <td>Action;FPS;Multiplayer</td>\n",
       "      <td>0</td>\n",
       "      <td>124534</td>\n",
       "      <td>3339</td>\n",
       "      <td>17612</td>\n",
       "      <td>317</td>\n",
       "      <td>10000000-20000000</td>\n",
       "      <td>7.19</td>\n",
       "    </tr>\n",
       "    <tr>\n",
       "      <th>1</th>\n",
       "      <td>20</td>\n",
       "      <td>Team Fortress Classic</td>\n",
       "      <td>1999-04-01</td>\n",
       "      <td>1</td>\n",
       "      <td>Valve</td>\n",
       "      <td>Valve</td>\n",
       "      <td>windows;mac;linux</td>\n",
       "      <td>0</td>\n",
       "      <td>Multi-player;Online Multi-Player;Local Multi-P...</td>\n",
       "      <td>Action</td>\n",
       "      <td>Action;FPS;Multiplayer</td>\n",
       "      <td>0</td>\n",
       "      <td>3318</td>\n",
       "      <td>633</td>\n",
       "      <td>277</td>\n",
       "      <td>62</td>\n",
       "      <td>5000000-10000000</td>\n",
       "      <td>3.99</td>\n",
       "    </tr>\n",
       "    <tr>\n",
       "      <th>2</th>\n",
       "      <td>30</td>\n",
       "      <td>Day of Defeat</td>\n",
       "      <td>2003-05-01</td>\n",
       "      <td>1</td>\n",
       "      <td>Valve</td>\n",
       "      <td>Valve</td>\n",
       "      <td>windows;mac;linux</td>\n",
       "      <td>0</td>\n",
       "      <td>Multi-player;Valve Anti-Cheat enabled</td>\n",
       "      <td>Action</td>\n",
       "      <td>FPS;World War II;Multiplayer</td>\n",
       "      <td>0</td>\n",
       "      <td>3416</td>\n",
       "      <td>398</td>\n",
       "      <td>187</td>\n",
       "      <td>34</td>\n",
       "      <td>5000000-10000000</td>\n",
       "      <td>3.99</td>\n",
       "    </tr>\n",
       "    <tr>\n",
       "      <th>3</th>\n",
       "      <td>40</td>\n",
       "      <td>Deathmatch Classic</td>\n",
       "      <td>2001-06-01</td>\n",
       "      <td>1</td>\n",
       "      <td>Valve</td>\n",
       "      <td>Valve</td>\n",
       "      <td>windows;mac;linux</td>\n",
       "      <td>0</td>\n",
       "      <td>Multi-player;Online Multi-Player;Local Multi-P...</td>\n",
       "      <td>Action</td>\n",
       "      <td>Action;FPS;Multiplayer</td>\n",
       "      <td>0</td>\n",
       "      <td>1273</td>\n",
       "      <td>267</td>\n",
       "      <td>258</td>\n",
       "      <td>184</td>\n",
       "      <td>5000000-10000000</td>\n",
       "      <td>3.99</td>\n",
       "    </tr>\n",
       "    <tr>\n",
       "      <th>4</th>\n",
       "      <td>50</td>\n",
       "      <td>Half-Life: Opposing Force</td>\n",
       "      <td>1999-11-01</td>\n",
       "      <td>1</td>\n",
       "      <td>Gearbox Software</td>\n",
       "      <td>Valve</td>\n",
       "      <td>windows;mac;linux</td>\n",
       "      <td>0</td>\n",
       "      <td>Single-player;Multi-player;Valve Anti-Cheat en...</td>\n",
       "      <td>Action</td>\n",
       "      <td>FPS;Action;Sci-fi</td>\n",
       "      <td>0</td>\n",
       "      <td>5250</td>\n",
       "      <td>288</td>\n",
       "      <td>624</td>\n",
       "      <td>415</td>\n",
       "      <td>5000000-10000000</td>\n",
       "      <td>3.99</td>\n",
       "    </tr>\n",
       "  </tbody>\n",
       "</table>\n",
       "</div>"
      ],
      "text/plain": [
       "   appid                       name release_date  english         developer  \\\n",
       "0     10             Counter-Strike   2000-11-01        1             Valve   \n",
       "1     20      Team Fortress Classic   1999-04-01        1             Valve   \n",
       "2     30              Day of Defeat   2003-05-01        1             Valve   \n",
       "3     40         Deathmatch Classic   2001-06-01        1             Valve   \n",
       "4     50  Half-Life: Opposing Force   1999-11-01        1  Gearbox Software   \n",
       "\n",
       "  publisher          platforms  required_age  \\\n",
       "0     Valve  windows;mac;linux             0   \n",
       "1     Valve  windows;mac;linux             0   \n",
       "2     Valve  windows;mac;linux             0   \n",
       "3     Valve  windows;mac;linux             0   \n",
       "4     Valve  windows;mac;linux             0   \n",
       "\n",
       "                                          categories  genres  \\\n",
       "0  Multi-player;Online Multi-Player;Local Multi-P...  Action   \n",
       "1  Multi-player;Online Multi-Player;Local Multi-P...  Action   \n",
       "2              Multi-player;Valve Anti-Cheat enabled  Action   \n",
       "3  Multi-player;Online Multi-Player;Local Multi-P...  Action   \n",
       "4  Single-player;Multi-player;Valve Anti-Cheat en...  Action   \n",
       "\n",
       "                  steamspy_tags  achievements  positive_ratings  \\\n",
       "0        Action;FPS;Multiplayer             0            124534   \n",
       "1        Action;FPS;Multiplayer             0              3318   \n",
       "2  FPS;World War II;Multiplayer             0              3416   \n",
       "3        Action;FPS;Multiplayer             0              1273   \n",
       "4             FPS;Action;Sci-fi             0              5250   \n",
       "\n",
       "   negative_ratings  average_playtime  median_playtime             owners  \\\n",
       "0              3339             17612              317  10000000-20000000   \n",
       "1               633               277               62   5000000-10000000   \n",
       "2               398               187               34   5000000-10000000   \n",
       "3               267               258              184   5000000-10000000   \n",
       "4               288               624              415   5000000-10000000   \n",
       "\n",
       "   price  \n",
       "0   7.19  \n",
       "1   3.99  \n",
       "2   3.99  \n",
       "3   3.99  \n",
       "4   3.99  "
      ]
     },
     "execution_count": 22,
     "metadata": {},
     "output_type": "execute_result"
    }
   ],
   "source": [
    "df_steam = pd.read_csv(\"steam.csv\")\n",
    "df_steam.head()"
   ]
  },
  {
   "cell_type": "markdown",
   "metadata": {},
   "source": [
    "### • Transformando as datas do dataset no formato datetime do pandas que estão na coluna \"release_date\""
   ]
  },
  {
   "cell_type": "code",
   "execution_count": 3,
   "metadata": {},
   "outputs": [],
   "source": [
    "df_steam_date = df_steam['release_date']\n",
    "df_steam_date = pd.to_datetime(df_steam_date)"
   ]
  },
  {
   "cell_type": "code",
   "execution_count": 4,
   "metadata": {},
   "outputs": [
    {
     "data": {
      "text/plain": [
       "0       2000-11-01\n",
       "1       1999-04-01\n",
       "2       2003-05-01\n",
       "3       2001-06-01\n",
       "4       1999-11-01\n",
       "           ...    \n",
       "27070   2019-04-24\n",
       "27071   2019-04-23\n",
       "27072   2019-04-24\n",
       "27073   2019-04-17\n",
       "27074   2019-04-24\n",
       "Name: release_date, Length: 27075, dtype: datetime64[ns]"
      ]
     },
     "execution_count": 4,
     "metadata": {},
     "output_type": "execute_result"
    }
   ],
   "source": [
    "df_steam['release_date'] = df_steam_date\n",
    "df_steam['release_date']"
   ]
  },
  {
   "cell_type": "markdown",
   "metadata": {},
   "source": [
    "### • Verificando se há dados nulos nas colunas e linhas"
   ]
  },
  {
   "cell_type": "code",
   "execution_count": 5,
   "metadata": {},
   "outputs": [
    {
     "data": {
      "text/plain": [
       "appid               0\n",
       "name                0\n",
       "release_date        0\n",
       "english             0\n",
       "developer           0\n",
       "publisher           0\n",
       "platforms           0\n",
       "required_age        0\n",
       "categories          0\n",
       "genres              0\n",
       "steamspy_tags       0\n",
       "achievements        0\n",
       "positive_ratings    0\n",
       "negative_ratings    0\n",
       "average_playtime    0\n",
       "median_playtime     0\n",
       "owners              0\n",
       "price               0\n",
       "dtype: int64"
      ]
     },
     "execution_count": 5,
     "metadata": {},
     "output_type": "execute_result"
    }
   ],
   "source": [
    "df_steam.isnull().sum(axis = 0)"
   ]
  },
  {
   "cell_type": "code",
   "execution_count": 6,
   "metadata": {},
   "outputs": [
    {
     "data": {
      "text/plain": [
       "0        0\n",
       "1        0\n",
       "2        0\n",
       "3        0\n",
       "4        0\n",
       "        ..\n",
       "27070    0\n",
       "27071    0\n",
       "27072    0\n",
       "27073    0\n",
       "27074    0\n",
       "Length: 27075, dtype: int64"
      ]
     },
     "execution_count": 6,
     "metadata": {},
     "output_type": "execute_result"
    }
   ],
   "source": [
    "df_steam.isnull().sum(axis = 1)"
   ]
  },
  {
   "cell_type": "markdown",
   "metadata": {},
   "source": [
    "### • No dataset há a coluna \"owners\" onde indica por meio de lower bound e upper bound a quantidade de proprietários do jogo, mas foi indicado no dataset tratar esses dados como a média entre os 2.\n",
    "### -> Através da função apply do pandas que aplica uma função para uma determinada coluna no dataset, foi passado um lambda x que percorre a coluna e separa os 2 valores que estão em formato de string através de split e transformando em inteiros, assim aplicando a fórmula de média"
   ]
  },
  {
   "cell_type": "code",
   "execution_count": 7,
   "metadata": {},
   "outputs": [
    {
     "data": {
      "text/plain": [
       "0        10000000-20000000\n",
       "1         5000000-10000000\n",
       "2         5000000-10000000\n",
       "3         5000000-10000000\n",
       "4         5000000-10000000\n",
       "               ...        \n",
       "27070              0-20000\n",
       "27071              0-20000\n",
       "27072              0-20000\n",
       "27073              0-20000\n",
       "27074              0-20000\n",
       "Name: owners, Length: 27075, dtype: object"
      ]
     },
     "execution_count": 7,
     "metadata": {},
     "output_type": "execute_result"
    }
   ],
   "source": [
    "df_steam['owners']"
   ]
  },
  {
   "cell_type": "code",
   "execution_count": 8,
   "metadata": {},
   "outputs": [],
   "source": [
    "df_steam['owners'] = df_steam['owners'].apply(lambda x: (int(x.split('-')[0]) + int(x.split('-')[1]))/2)"
   ]
  },
  {
   "cell_type": "code",
   "execution_count": 9,
   "metadata": {},
   "outputs": [
    {
     "data": {
      "text/plain": [
       "0        15000000.0\n",
       "1         7500000.0\n",
       "2         7500000.0\n",
       "3         7500000.0\n",
       "4         7500000.0\n",
       "            ...    \n",
       "27070       10000.0\n",
       "27071       10000.0\n",
       "27072       10000.0\n",
       "27073       10000.0\n",
       "27074       10000.0\n",
       "Name: owners, Length: 27075, dtype: float64"
      ]
     },
     "execution_count": 9,
     "metadata": {},
     "output_type": "execute_result"
    }
   ],
   "source": [
    "df_steam['owners']"
   ]
  },
  {
   "cell_type": "markdown",
   "metadata": {},
   "source": [
    "### • Foi necessário retirar uma linha do dataset pois foi observado que havia dados nulos"
   ]
  },
  {
   "cell_type": "code",
   "execution_count": 10,
   "metadata": {},
   "outputs": [],
   "source": [
    "df_steam = df_steam.drop(index=[6258,6259])"
   ]
  },
  {
   "cell_type": "markdown",
   "metadata": {},
   "source": [
    "### • A coluna \"platforms\" apresenta a plataforma em que o jogo é suportado, podendo ser windows, linux ou macOs. Para uma utilização mais \"limpa\" dessa coluna posteriormente foi necessário aplicar o método \"one hot encoding\" que transforma dados categóricos em forma binária através de novas colunas"
   ]
  },
  {
   "cell_type": "code",
   "execution_count": 11,
   "metadata": {},
   "outputs": [
    {
     "data": {
      "text/plain": [
       "0        windows;mac;linux\n",
       "1        windows;mac;linux\n",
       "2        windows;mac;linux\n",
       "3        windows;mac;linux\n",
       "4        windows;mac;linux\n",
       "               ...        \n",
       "27070              windows\n",
       "27071              windows\n",
       "27072              windows\n",
       "27073          windows;mac\n",
       "27074          windows;mac\n",
       "Name: platforms, Length: 27073, dtype: object"
      ]
     },
     "execution_count": 11,
     "metadata": {},
     "output_type": "execute_result"
    }
   ],
   "source": [
    "df_steam[\"platforms\"]"
   ]
  },
  {
   "cell_type": "code",
   "execution_count": 12,
   "metadata": {},
   "outputs": [
    {
     "data": {
      "text/html": [
       "<div>\n",
       "<style scoped>\n",
       "    .dataframe tbody tr th:only-of-type {\n",
       "        vertical-align: middle;\n",
       "    }\n",
       "\n",
       "    .dataframe tbody tr th {\n",
       "        vertical-align: top;\n",
       "    }\n",
       "\n",
       "    .dataframe thead th {\n",
       "        text-align: right;\n",
       "    }\n",
       "</style>\n",
       "<table border=\"1\" class=\"dataframe\">\n",
       "  <thead>\n",
       "    <tr style=\"text-align: right;\">\n",
       "      <th></th>\n",
       "      <th>windows</th>\n",
       "      <th>linux</th>\n",
       "      <th>mac</th>\n",
       "    </tr>\n",
       "  </thead>\n",
       "  <tbody>\n",
       "    <tr>\n",
       "      <th>0</th>\n",
       "      <td>1</td>\n",
       "      <td>1</td>\n",
       "      <td>1</td>\n",
       "    </tr>\n",
       "    <tr>\n",
       "      <th>1</th>\n",
       "      <td>1</td>\n",
       "      <td>1</td>\n",
       "      <td>1</td>\n",
       "    </tr>\n",
       "    <tr>\n",
       "      <th>2</th>\n",
       "      <td>1</td>\n",
       "      <td>1</td>\n",
       "      <td>1</td>\n",
       "    </tr>\n",
       "    <tr>\n",
       "      <th>3</th>\n",
       "      <td>1</td>\n",
       "      <td>1</td>\n",
       "      <td>1</td>\n",
       "    </tr>\n",
       "    <tr>\n",
       "      <th>4</th>\n",
       "      <td>1</td>\n",
       "      <td>1</td>\n",
       "      <td>1</td>\n",
       "    </tr>\n",
       "    <tr>\n",
       "      <th>...</th>\n",
       "      <td>...</td>\n",
       "      <td>...</td>\n",
       "      <td>...</td>\n",
       "    </tr>\n",
       "    <tr>\n",
       "      <th>27070</th>\n",
       "      <td>1</td>\n",
       "      <td>0</td>\n",
       "      <td>0</td>\n",
       "    </tr>\n",
       "    <tr>\n",
       "      <th>27071</th>\n",
       "      <td>1</td>\n",
       "      <td>0</td>\n",
       "      <td>0</td>\n",
       "    </tr>\n",
       "    <tr>\n",
       "      <th>27072</th>\n",
       "      <td>1</td>\n",
       "      <td>0</td>\n",
       "      <td>0</td>\n",
       "    </tr>\n",
       "    <tr>\n",
       "      <th>27073</th>\n",
       "      <td>1</td>\n",
       "      <td>0</td>\n",
       "      <td>1</td>\n",
       "    </tr>\n",
       "    <tr>\n",
       "      <th>27074</th>\n",
       "      <td>1</td>\n",
       "      <td>0</td>\n",
       "      <td>1</td>\n",
       "    </tr>\n",
       "  </tbody>\n",
       "</table>\n",
       "<p>27073 rows × 3 columns</p>\n",
       "</div>"
      ],
      "text/plain": [
       "       windows  linux  mac\n",
       "0            1      1    1\n",
       "1            1      1    1\n",
       "2            1      1    1\n",
       "3            1      1    1\n",
       "4            1      1    1\n",
       "...        ...    ...  ...\n",
       "27070        1      0    0\n",
       "27071        1      0    0\n",
       "27072        1      0    0\n",
       "27073        1      0    1\n",
       "27074        1      0    1\n",
       "\n",
       "[27073 rows x 3 columns]"
      ]
     },
     "execution_count": 12,
     "metadata": {},
     "output_type": "execute_result"
    }
   ],
   "source": [
    "df_steam[\"windows\"]=[1 if \"windows\" in x else 0 for x in df_steam[\"platforms\"]]\n",
    "df_steam[\"linux\"]=[1 if \"linux\" in x else 0 for x in df_steam[\"platforms\"]]\n",
    "df_steam[\"mac\"]=[1 if \"mac\" in x else 0 for x in df_steam[\"platforms\"]]\n",
    "df_steam[['windows','linux','mac']]"
   ]
  },
  {
   "cell_type": "markdown",
   "metadata": {},
   "source": [
    "### • Adicionando 2 novas colunas: porcentagem de avaliações positivas e total de avaliações. Para isso foi utilizado as colunas \"positive_ratings\" e \"negative_ratings\""
   ]
  },
  {
   "cell_type": "code",
   "execution_count": 13,
   "metadata": {},
   "outputs": [
    {
     "data": {
      "text/html": [
       "<div>\n",
       "<style scoped>\n",
       "    .dataframe tbody tr th:only-of-type {\n",
       "        vertical-align: middle;\n",
       "    }\n",
       "\n",
       "    .dataframe tbody tr th {\n",
       "        vertical-align: top;\n",
       "    }\n",
       "\n",
       "    .dataframe thead th {\n",
       "        text-align: right;\n",
       "    }\n",
       "</style>\n",
       "<table border=\"1\" class=\"dataframe\">\n",
       "  <thead>\n",
       "    <tr style=\"text-align: right;\">\n",
       "      <th></th>\n",
       "      <th>rating</th>\n",
       "      <th>totalRatings</th>\n",
       "    </tr>\n",
       "  </thead>\n",
       "  <tbody>\n",
       "    <tr>\n",
       "      <th>0</th>\n",
       "      <td>97.388815</td>\n",
       "      <td>127873</td>\n",
       "    </tr>\n",
       "    <tr>\n",
       "      <th>1</th>\n",
       "      <td>83.978740</td>\n",
       "      <td>3951</td>\n",
       "    </tr>\n",
       "    <tr>\n",
       "      <th>2</th>\n",
       "      <td>89.564761</td>\n",
       "      <td>3814</td>\n",
       "    </tr>\n",
       "    <tr>\n",
       "      <th>3</th>\n",
       "      <td>82.662338</td>\n",
       "      <td>1540</td>\n",
       "    </tr>\n",
       "    <tr>\n",
       "      <th>4</th>\n",
       "      <td>94.799567</td>\n",
       "      <td>5538</td>\n",
       "    </tr>\n",
       "    <tr>\n",
       "      <th>...</th>\n",
       "      <td>...</td>\n",
       "      <td>...</td>\n",
       "    </tr>\n",
       "    <tr>\n",
       "      <th>27070</th>\n",
       "      <td>100.000000</td>\n",
       "      <td>3</td>\n",
       "    </tr>\n",
       "    <tr>\n",
       "      <th>27071</th>\n",
       "      <td>88.888889</td>\n",
       "      <td>9</td>\n",
       "    </tr>\n",
       "    <tr>\n",
       "      <th>27072</th>\n",
       "      <td>0.000000</td>\n",
       "      <td>1</td>\n",
       "    </tr>\n",
       "    <tr>\n",
       "      <th>27073</th>\n",
       "      <td>100.000000</td>\n",
       "      <td>2</td>\n",
       "    </tr>\n",
       "    <tr>\n",
       "      <th>27074</th>\n",
       "      <td>100.000000</td>\n",
       "      <td>4</td>\n",
       "    </tr>\n",
       "  </tbody>\n",
       "</table>\n",
       "<p>27073 rows × 2 columns</p>\n",
       "</div>"
      ],
      "text/plain": [
       "           rating  totalRatings\n",
       "0       97.388815        127873\n",
       "1       83.978740          3951\n",
       "2       89.564761          3814\n",
       "3       82.662338          1540\n",
       "4       94.799567          5538\n",
       "...           ...           ...\n",
       "27070  100.000000             3\n",
       "27071   88.888889             9\n",
       "27072    0.000000             1\n",
       "27073  100.000000             2\n",
       "27074  100.000000             4\n",
       "\n",
       "[27073 rows x 2 columns]"
      ]
     },
     "execution_count": 13,
     "metadata": {},
     "output_type": "execute_result"
    }
   ],
   "source": [
    "df_steam[\"rating\"]=df_steam[\"positive_ratings\"]/(df_steam[\"positive_ratings\"]+df_steam[\"negative_ratings\"])*100\n",
    "df_steam[\"totalRatings\"]=df_steam[\"positive_ratings\"]+df_steam[\"negative_ratings\"]\n",
    "df_steam[['rating', 'totalRatings']]"
   ]
  },
  {
   "cell_type": "markdown",
   "metadata": {},
   "source": [
    "## Perguntas"
   ]
  },
  {
   "cell_type": "markdown",
   "metadata": {},
   "source": [
    "### • Como é a distribuição de preços dos jogos?\n",
    "### -> Foi criado um gráfico de barras para visualização da média, mediana e desvio padrão dos preços dos jogos que estão contidos na coluna \"prices\".\n",
    "### -> Necessário a importação do numpy para as funções matemáticas e o matplotlib para plotagem do gráfico"
   ]
  },
  {
   "cell_type": "code",
   "execution_count": 14,
   "metadata": {},
   "outputs": [],
   "source": [
    "import numpy as np\n",
    "import matplotlib.pyplot as plt"
   ]
  },
  {
   "cell_type": "markdown",
   "metadata": {},
   "source": [
    "### -> Utilização dos métodos que facilitam a extração da média, mediana e desvio padrão do numpy: mean, nanmedian, std\n",
    "### -> Foi utilizado um laço para designação do nome das barras no gráfico através da iteração da lista que contém os métodos supracitados"
   ]
  },
  {
   "cell_type": "code",
   "execution_count": 15,
   "metadata": {},
   "outputs": [
    {
     "data": {
      "image/png": "[encoded data removed]",
      "text/plain": [
       "<Figure size 432x288 with 1 Axes>"
      ]
     },
     "metadata": {
      "needs_background": "light"
     },
     "output_type": "display_data"
    }
   ],
   "source": [
    "x = [\"Média\", \"Mediana\", \"Desvio Padrão\"]\n",
    "y = [np.mean(df_steam['price']), np.nanmedian(df_steam['price']), np.std(df_steam['price'])]\n",
    "plt.barh(x, y)\n",
    "\n",
    "for index, value in enumerate(y):\n",
    "    plt.text(value, index, str(value)[:3])\n",
    "plt.title(\"Price\")\n",
    "plt.show()"
   ]
  },
  {
   "cell_type": "markdown",
   "metadata": {},
   "source": [
    "### • Quais os jogos com mais avaliações positivas?\n",
    "### -> Uma variável nova foi atribuída para armazenar um corte do dataset original onde contém apenas as colunas \"name\"(nomes dos jogos) e \"positive ratings\"(avaliações positivas)\n",
    "### -> A função sort_values ordena as linhas em forma de ascendência(ascending=False faz ordenar os dados dos maiores valores para os menores)\n",
    "### -> Função loc seleciona apenas as linhas e colunas necessárias, no nosso caso, pegamos apenas os 7 primeiros jogos para melhor visualização dos dados nos gráficos"
   ]
  },
  {
   "cell_type": "code",
   "execution_count": 16,
   "metadata": {},
   "outputs": [
    {
     "data": {
      "text/html": [
       "<div>\n",
       "<style scoped>\n",
       "    .dataframe tbody tr th:only-of-type {\n",
       "        vertical-align: middle;\n",
       "    }\n",
       "\n",
       "    .dataframe tbody tr th {\n",
       "        vertical-align: top;\n",
       "    }\n",
       "\n",
       "    .dataframe thead th {\n",
       "        text-align: right;\n",
       "    }\n",
       "</style>\n",
       "<table border=\"1\" class=\"dataframe\">\n",
       "  <thead>\n",
       "    <tr style=\"text-align: right;\">\n",
       "      <th></th>\n",
       "      <th>index</th>\n",
       "      <th>name</th>\n",
       "      <th>positive_ratings</th>\n",
       "    </tr>\n",
       "  </thead>\n",
       "  <tbody>\n",
       "    <tr>\n",
       "      <th>0</th>\n",
       "      <td>25</td>\n",
       "      <td>Counter-Strike: Global Offensive</td>\n",
       "      <td>2644404</td>\n",
       "    </tr>\n",
       "    <tr>\n",
       "      <th>1</th>\n",
       "      <td>22</td>\n",
       "      <td>Dota 2</td>\n",
       "      <td>863507</td>\n",
       "    </tr>\n",
       "    <tr>\n",
       "      <th>2</th>\n",
       "      <td>19</td>\n",
       "      <td>Team Fortress 2</td>\n",
       "      <td>515879</td>\n",
       "    </tr>\n",
       "    <tr>\n",
       "      <th>3</th>\n",
       "      <td>12836</td>\n",
       "      <td>PLAYERUNKNOWN'S BATTLEGROUNDS</td>\n",
       "      <td>496184</td>\n",
       "    </tr>\n",
       "    <tr>\n",
       "      <th>4</th>\n",
       "      <td>121</td>\n",
       "      <td>Garry's Mod</td>\n",
       "      <td>363721</td>\n",
       "    </tr>\n",
       "    <tr>\n",
       "      <th>5</th>\n",
       "      <td>2478</td>\n",
       "      <td>Grand Theft Auto V</td>\n",
       "      <td>329061</td>\n",
       "    </tr>\n",
       "    <tr>\n",
       "      <th>6</th>\n",
       "      <td>1467</td>\n",
       "      <td>PAYDAY 2</td>\n",
       "      <td>308657</td>\n",
       "    </tr>\n",
       "  </tbody>\n",
       "</table>\n",
       "</div>"
      ],
      "text/plain": [
       "   index                              name  positive_ratings\n",
       "0     25  Counter-Strike: Global Offensive           2644404\n",
       "1     22                            Dota 2            863507\n",
       "2     19                   Team Fortress 2            515879\n",
       "3  12836     PLAYERUNKNOWN'S BATTLEGROUNDS            496184\n",
       "4    121                       Garry's Mod            363721\n",
       "5   2478                Grand Theft Auto V            329061\n",
       "6   1467                          PAYDAY 2            308657"
      ]
     },
     "execution_count": 16,
     "metadata": {},
     "output_type": "execute_result"
    }
   ],
   "source": [
    "steam_cut = df_steam[['name','positive_ratings']]\n",
    "steam_cut = steam_cut.sort_values('positive_ratings', ascending=False).reset_index()\n",
    "steam_cut = steam_cut.loc[:6,:]\n",
    "steam_cut"
   ]
  },
  {
   "cell_type": "markdown",
   "metadata": {},
   "source": [
    "### -> Para plotagem dos gráficos utilizamos a biblioteca do seaborn"
   ]
  },
  {
   "cell_type": "code",
   "execution_count": 17,
   "metadata": {},
   "outputs": [],
   "source": [
    "import seaborn as sns"
   ]
  },
  {
   "cell_type": "markdown",
   "metadata": {},
   "source": [
    "### -> Em conjunto com o matplotlib, podemos editar o tamanho do gráfico conforme desejado utilizando o figsize.\n",
    "### -> Também alteramos o título e os rótulos X e Y."
   ]
  },
  {
   "cell_type": "code",
   "execution_count": 18,
   "metadata": {},
   "outputs": [
    {
     "data": {
      "image/png": "[encoded data removed]",
      "text/plain": [
       "<Figure size 1440x432 with 1 Axes>"
      ]
     },
     "metadata": {
      "needs_background": "light"
     },
     "output_type": "display_data"
    }
   ],
   "source": [
    "fig, ax = plt.subplots(figsize=(20,6))\n",
    "ax = sns.barplot(x=\"name\", y=\"positive_ratings\", data=steam_cut)\n",
    "plt.title('The 7 best rated games', fontsize=20)\n",
    "plt.xlabel('Game name', fontsize=18)\n",
    "plt.ylabel('Positive Ratings', fontsize=16)\n",
    "plt.show()"
   ]
  },
  {
   "cell_type": "markdown",
   "metadata": {},
   "source": [
    "### • Como foi o crescimento da quantidade de jogos lançados por ano na steam?"
   ]
  },
  {
   "cell_type": "markdown",
   "metadata": {},
   "source": [
    "### -> Foram importados as funções Counter e OrderedDict da biblioteca collections.\n",
    "### -> Essas 2 funções nos ajudam na contagem de dados únicos num dicionários."
   ]
  },
  {
   "cell_type": "code",
   "execution_count": 23,
   "metadata": {},
   "outputs": [],
   "source": [
    "from collections import Counter, OrderedDict"
   ]
  },
  {
   "cell_type": "markdown",
   "metadata": {},
   "source": [
    "### -> Foi atribuído a variável data_count um dicionário onde foi armazenado através de um laço o ano de lançamento de cada jogo na steam.\n",
    "### -> Em keys foi armazenado através do Counter os diferentes tipos de anos que estão contidos no dataset(vai de 1997 à 2019. \n",
    "### -> Em values foi armazenado a quantidade de jogos lançados por cada ano."
   ]
  },
  {
   "cell_type": "code",
   "execution_count": 31,
   "metadata": {},
   "outputs": [],
   "source": [
    "date_count = {}\n",
    "\n",
    "date_count = [x.split('-')[0] for x in df_steam['release_date']]\n",
    "keys = Counter(date_count).keys()\n",
    "values = Counter(date_count).values()"
   ]
  },
  {
   "cell_type": "code",
   "execution_count": 32,
   "metadata": {},
   "outputs": [
    {
     "data": {
      "text/plain": [
       "dict_keys(['2000', '1999', '2003', '2001', '1998', '2004', '2010', '2005', '2006', '2007', '2008', '2009', '2013', '2011', '2012', '2014', '2018', '2015', '2017', '2016', '2002', '2019', '1997'])"
      ]
     },
     "execution_count": 32,
     "metadata": {},
     "output_type": "execute_result"
    }
   ],
   "source": [
    "keys"
   ]
  },
  {
   "cell_type": "code",
   "execution_count": 33,
   "metadata": {},
   "outputs": [
    {
     "data": {
      "text/plain": [
       "dict_values([2, 2, 3, 4, 1, 6, 238, 6, 48, 93, 145, 305, 418, 239, 320, 1555, 8160, 2597, 6357, 4361, 1, 2213, 1])"
      ]
     },
     "execution_count": 33,
     "metadata": {},
     "output_type": "execute_result"
    }
   ],
   "source": [
    "values"
   ]
  },
  {
   "cell_type": "markdown",
   "metadata": {},
   "source": [
    "### -> A função zip em conjunto com o dict cria um dicionário relacionando cada valor a seu ano, após isso utilizamos o sorted para ordenar o dicionário de acordo com o ano, indo do menor para o maior, de 1997 à 2019."
   ]
  },
  {
   "cell_type": "code",
   "execution_count": 34,
   "metadata": {},
   "outputs": [],
   "source": [
    "dict_date_count = dict(zip(keys, values))\n",
    "dict_date_count = {int(k):v for k,v in dict_date_count.items()}\n",
    "\n",
    "dict_date_count = OrderedDict(sorted(dict_date_count.items()))\n",
    "dict_date_count = dict(dict_date_count)"
   ]
  },
  {
   "cell_type": "code",
   "execution_count": 35,
   "metadata": {},
   "outputs": [
    {
     "data": {
      "text/plain": [
       "{1997: 1,\n",
       " 1998: 1,\n",
       " 1999: 2,\n",
       " 2000: 2,\n",
       " 2001: 4,\n",
       " 2002: 1,\n",
       " 2003: 3,\n",
       " 2004: 6,\n",
       " 2005: 6,\n",
       " 2006: 48,\n",
       " 2007: 93,\n",
       " 2008: 145,\n",
       " 2009: 305,\n",
       " 2010: 238,\n",
       " 2011: 239,\n",
       " 2012: 320,\n",
       " 2013: 418,\n",
       " 2014: 1555,\n",
       " 2015: 2597,\n",
       " 2016: 4361,\n",
       " 2017: 6357,\n",
       " 2018: 8160,\n",
       " 2019: 2213}"
      ]
     },
     "execution_count": 35,
     "metadata": {},
     "output_type": "execute_result"
    }
   ],
   "source": [
    "dict_date_count"
   ]
  },
  {
   "cell_type": "markdown",
   "metadata": {},
   "source": [
    "### -> Plotagem do gráfico de linha com matplotlib"
   ]
  },
  {
   "cell_type": "code",
   "execution_count": 36,
   "metadata": {},
   "outputs": [
    {
     "data": {
      "image/png": "[encoded data removed]",
      "text/plain": [
       "<Figure size 936x432 with 1 Axes>"
      ]
     },
     "metadata": {
      "needs_background": "light"
     },
     "output_type": "display_data"
    }
   ],
   "source": [
    "plt.subplots(figsize=(13,6))\n",
    "plt.plot(range(len(dict_date_count)), list(dict_date_count.values()))\n",
    "plt.xticks(range(len(dict_date_count)), list(dict_date_count.keys()))\n",
    "plt.title('Game releases per year on steam since 1997', fontsize=20)\n",
    "plt.xlabel('Years', fontsize=18)\n",
    "plt.ylabel('Number of games', fontsize=16)\n",
    "\n",
    "plt.show()"
   ]
  },
  {
   "cell_type": "markdown",
   "metadata": {},
   "source": [
    "### -> Observa-se no gráfico uma queda de lançamento de jogos no ano de 2019, isso acontece devido ao dataset ter dados de até alguns mêses de 2019."
   ]
  },
  {
   "cell_type": "markdown",
   "metadata": {},
   "source": [
    "## Conclusão"
   ]
  },
  {
   "cell_type": "code",
   "execution_count": null,
   "metadata": {},
   "outputs": [],
   "source": []
  }
 ],
 "metadata": {
  "kernelspec": {
   "display_name": "Python 3",
   "language": "python",
   "name": "python3"
  },
  "language_info": {
   "codemirror_mode": {
    "name": "ipython",
    "version": 3
   },
   "file_extension": ".py",
   "mimetype": "text/x-python",
   "name": "python",
   "nbconvert_exporter": "python",
   "pygments_lexer": "ipython3",
   "version": "3.8.5"
  }
 },
 "nbformat": 4,
 "nbformat_minor": 5
}
