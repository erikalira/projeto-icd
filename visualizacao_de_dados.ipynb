{
 "cells": [
  {
   "cell_type": "code",
   "execution_count": 122,
   "metadata": {
    "colab": {
     "base_uri": "https://localhost:8080/",
     "height": 534
    },
    "id": "TaVSHzJERuvw",
    "outputId": "787c4826-17b0-4e82-a70b-342a8795bc4d"
   },
   "outputs": [],
   "source": [
    "import pandas as pd\n",
    "import numpy as np\n",
    "import matplotlib.pyplot as plt\n",
    "import seaborn as sns"
   ]
  },
  {
   "cell_type": "code",
   "execution_count": 123,
   "metadata": {
    "colab": {
     "base_uri": "https://localhost:8080/",
     "height": 534
    },
    "id": "TaVSHzJERuvw",
    "outputId": "787c4826-17b0-4e82-a70b-342a8795bc4d"
   },
   "outputs": [
    {
     "data": {
      "text/html": [
       "<div>\n",
       "<style scoped>\n",
       "    .dataframe tbody tr th:only-of-type {\n",
       "        vertical-align: middle;\n",
       "    }\n",
       "\n",
       "    .dataframe tbody tr th {\n",
       "        vertical-align: top;\n",
       "    }\n",
       "\n",
       "    .dataframe thead th {\n",
       "        text-align: right;\n",
       "    }\n",
       "</style>\n",
       "<table border=\"1\" class=\"dataframe\">\n",
       "  <thead>\n",
       "    <tr style=\"text-align: right;\">\n",
       "      <th></th>\n",
       "      <th>appid</th>\n",
       "      <th>name</th>\n",
       "      <th>release_date</th>\n",
       "      <th>english</th>\n",
       "      <th>developer</th>\n",
       "      <th>publisher</th>\n",
       "      <th>platforms</th>\n",
       "      <th>required_age</th>\n",
       "      <th>categories</th>\n",
       "      <th>genres</th>\n",
       "      <th>...</th>\n",
       "      <th>negative_ratings</th>\n",
       "      <th>average_playtime</th>\n",
       "      <th>median_playtime</th>\n",
       "      <th>owners</th>\n",
       "      <th>price</th>\n",
       "      <th>rating</th>\n",
       "      <th>totalRatings</th>\n",
       "      <th>windows</th>\n",
       "      <th>linux</th>\n",
       "      <th>mac</th>\n",
       "    </tr>\n",
       "  </thead>\n",
       "  <tbody>\n",
       "    <tr>\n",
       "      <th>0</th>\n",
       "      <td>10</td>\n",
       "      <td>Counter-Strike</td>\n",
       "      <td>2000-11-01</td>\n",
       "      <td>1</td>\n",
       "      <td>Valve</td>\n",
       "      <td>Valve</td>\n",
       "      <td>windows;mac;linux</td>\n",
       "      <td>0</td>\n",
       "      <td>Multi-player;Online Multi-Player;Local Multi-P...</td>\n",
       "      <td>Action</td>\n",
       "      <td>...</td>\n",
       "      <td>3339.0</td>\n",
       "      <td>17612.0</td>\n",
       "      <td>317</td>\n",
       "      <td>10000000</td>\n",
       "      <td>7.19</td>\n",
       "      <td>97.388815</td>\n",
       "      <td>127873.0</td>\n",
       "      <td>1</td>\n",
       "      <td>1</td>\n",
       "      <td>1</td>\n",
       "    </tr>\n",
       "    <tr>\n",
       "      <th>1</th>\n",
       "      <td>20</td>\n",
       "      <td>Team Fortress Classic</td>\n",
       "      <td>1999-04-01</td>\n",
       "      <td>1</td>\n",
       "      <td>Valve</td>\n",
       "      <td>Valve</td>\n",
       "      <td>windows;mac;linux</td>\n",
       "      <td>0</td>\n",
       "      <td>Multi-player;Online Multi-Player;Local Multi-P...</td>\n",
       "      <td>Action</td>\n",
       "      <td>...</td>\n",
       "      <td>633.0</td>\n",
       "      <td>277.0</td>\n",
       "      <td>62</td>\n",
       "      <td>5000000</td>\n",
       "      <td>3.99</td>\n",
       "      <td>83.978740</td>\n",
       "      <td>3951.0</td>\n",
       "      <td>1</td>\n",
       "      <td>1</td>\n",
       "      <td>1</td>\n",
       "    </tr>\n",
       "    <tr>\n",
       "      <th>2</th>\n",
       "      <td>30</td>\n",
       "      <td>Day of Defeat</td>\n",
       "      <td>2003-05-01</td>\n",
       "      <td>1</td>\n",
       "      <td>Valve</td>\n",
       "      <td>Valve</td>\n",
       "      <td>windows;mac;linux</td>\n",
       "      <td>0</td>\n",
       "      <td>Multi-player;Valve Anti-Cheat enabled</td>\n",
       "      <td>Action</td>\n",
       "      <td>...</td>\n",
       "      <td>398.0</td>\n",
       "      <td>187.0</td>\n",
       "      <td>34</td>\n",
       "      <td>5000000</td>\n",
       "      <td>3.99</td>\n",
       "      <td>89.564761</td>\n",
       "      <td>3814.0</td>\n",
       "      <td>1</td>\n",
       "      <td>1</td>\n",
       "      <td>1</td>\n",
       "    </tr>\n",
       "    <tr>\n",
       "      <th>3</th>\n",
       "      <td>40</td>\n",
       "      <td>Deathmatch Classic</td>\n",
       "      <td>2001-06-01</td>\n",
       "      <td>1</td>\n",
       "      <td>Valve</td>\n",
       "      <td>Valve</td>\n",
       "      <td>windows;mac;linux</td>\n",
       "      <td>0</td>\n",
       "      <td>Multi-player;Online Multi-Player;Local Multi-P...</td>\n",
       "      <td>Action</td>\n",
       "      <td>...</td>\n",
       "      <td>267.0</td>\n",
       "      <td>258.0</td>\n",
       "      <td>184</td>\n",
       "      <td>5000000</td>\n",
       "      <td>3.99</td>\n",
       "      <td>82.662338</td>\n",
       "      <td>1540.0</td>\n",
       "      <td>1</td>\n",
       "      <td>1</td>\n",
       "      <td>1</td>\n",
       "    </tr>\n",
       "    <tr>\n",
       "      <th>4</th>\n",
       "      <td>50</td>\n",
       "      <td>Half-Life: Opposing Force</td>\n",
       "      <td>1999-11-01</td>\n",
       "      <td>1</td>\n",
       "      <td>Gearbox Software</td>\n",
       "      <td>Valve</td>\n",
       "      <td>windows;mac;linux</td>\n",
       "      <td>0</td>\n",
       "      <td>Single-player;Multi-player;Valve Anti-Cheat en...</td>\n",
       "      <td>Action</td>\n",
       "      <td>...</td>\n",
       "      <td>288.0</td>\n",
       "      <td>624.0</td>\n",
       "      <td>415</td>\n",
       "      <td>5000000</td>\n",
       "      <td>3.99</td>\n",
       "      <td>94.799567</td>\n",
       "      <td>5538.0</td>\n",
       "      <td>1</td>\n",
       "      <td>1</td>\n",
       "      <td>1</td>\n",
       "    </tr>\n",
       "  </tbody>\n",
       "</table>\n",
       "<p>5 rows × 23 columns</p>\n",
       "</div>"
      ],
      "text/plain": [
       "  appid                       name release_date english         developer  \\\n",
       "0    10             Counter-Strike   2000-11-01       1             Valve   \n",
       "1    20      Team Fortress Classic   1999-04-01       1             Valve   \n",
       "2    30              Day of Defeat   2003-05-01       1             Valve   \n",
       "3    40         Deathmatch Classic   2001-06-01       1             Valve   \n",
       "4    50  Half-Life: Opposing Force   1999-11-01       1  Gearbox Software   \n",
       "\n",
       "  publisher          platforms required_age  \\\n",
       "0     Valve  windows;mac;linux            0   \n",
       "1     Valve  windows;mac;linux            0   \n",
       "2     Valve  windows;mac;linux            0   \n",
       "3     Valve  windows;mac;linux            0   \n",
       "4     Valve  windows;mac;linux            0   \n",
       "\n",
       "                                          categories  genres  ...  \\\n",
       "0  Multi-player;Online Multi-Player;Local Multi-P...  Action  ...   \n",
       "1  Multi-player;Online Multi-Player;Local Multi-P...  Action  ...   \n",
       "2              Multi-player;Valve Anti-Cheat enabled  Action  ...   \n",
       "3  Multi-player;Online Multi-Player;Local Multi-P...  Action  ...   \n",
       "4  Single-player;Multi-player;Valve Anti-Cheat en...  Action  ...   \n",
       "\n",
       "  negative_ratings  average_playtime  median_playtime    owners  price  \\\n",
       "0           3339.0           17612.0              317  10000000   7.19   \n",
       "1            633.0             277.0               62   5000000   3.99   \n",
       "2            398.0             187.0               34   5000000   3.99   \n",
       "3            267.0             258.0              184   5000000   3.99   \n",
       "4            288.0             624.0              415   5000000   3.99   \n",
       "\n",
       "      rating  totalRatings  windows  linux  mac  \n",
       "0  97.388815      127873.0        1      1    1  \n",
       "1  83.978740        3951.0        1      1    1  \n",
       "2  89.564761        3814.0        1      1    1  \n",
       "3  82.662338        1540.0        1      1    1  \n",
       "4  94.799567        5538.0        1      1    1  \n",
       "\n",
       "[5 rows x 23 columns]"
      ]
     },
     "execution_count": 123,
     "metadata": {},
     "output_type": "execute_result"
    }
   ],
   "source": [
    "df = pd.read_csv(\"database/steam.csv\",encoding= 'unicode_escape')\n",
    "df[\"rating\"]=df[\"positive_ratings\"]/(df[\"positive_ratings\"]+df[\"negative_ratings\"])*100\n",
    "df[\"totalRatings\"]=df[\"positive_ratings\"]+df[\"negative_ratings\"]\n",
    "df = df.drop(index=[6258,6259])#Tratando Dados corrompidos.\n",
    "df[\"windows\"]=[1 if \"windows\" in x else 0 for x in df[\"platforms\"]]\n",
    "df[\"linux\"]=[1 if \"linux\" in x else 0 for x in df[\"platforms\"]]\n",
    "df[\"mac\"]=[1 if \"mac\" in x else 0 for x in df[\"platforms\"]]\n",
    "df[\"owners\"]=[int(x.split(\"-\")[0]) for x in df[\"owners\"]]\n",
    "df.head()"
   ]
  },
  {
   "cell_type": "code",
   "execution_count": 124,
   "metadata": {},
   "outputs": [
    {
     "data": {
      "text/html": [
       "<div>\n",
       "<style scoped>\n",
       "    .dataframe tbody tr th:only-of-type {\n",
       "        vertical-align: middle;\n",
       "    }\n",
       "\n",
       "    .dataframe tbody tr th {\n",
       "        vertical-align: top;\n",
       "    }\n",
       "\n",
       "    .dataframe thead th {\n",
       "        text-align: right;\n",
       "    }\n",
       "</style>\n",
       "<table border=\"1\" class=\"dataframe\">\n",
       "  <thead>\n",
       "    <tr style=\"text-align: right;\">\n",
       "      <th></th>\n",
       "      <th>linux</th>\n",
       "      <th>mac</th>\n",
       "      <th>windows</th>\n",
       "    </tr>\n",
       "    <tr>\n",
       "      <th>owners</th>\n",
       "      <th></th>\n",
       "      <th></th>\n",
       "      <th></th>\n",
       "    </tr>\n",
       "  </thead>\n",
       "  <tbody>\n",
       "    <tr>\n",
       "      <th>0</th>\n",
       "      <td>2987</td>\n",
       "      <td>4806</td>\n",
       "      <td>18591</td>\n",
       "    </tr>\n",
       "    <tr>\n",
       "      <th>20000</th>\n",
       "      <td>717</td>\n",
       "      <td>1092</td>\n",
       "      <td>3059</td>\n",
       "    </tr>\n",
       "    <tr>\n",
       "      <th>50000</th>\n",
       "      <td>429</td>\n",
       "      <td>640</td>\n",
       "      <td>1694</td>\n",
       "    </tr>\n",
       "    <tr>\n",
       "      <th>100000</th>\n",
       "      <td>395</td>\n",
       "      <td>538</td>\n",
       "      <td>1386</td>\n",
       "    </tr>\n",
       "    <tr>\n",
       "      <th>200000</th>\n",
       "      <td>372</td>\n",
       "      <td>528</td>\n",
       "      <td>1272</td>\n",
       "    </tr>\n",
       "    <tr>\n",
       "      <th>500000</th>\n",
       "      <td>140</td>\n",
       "      <td>203</td>\n",
       "      <td>513</td>\n",
       "    </tr>\n",
       "    <tr>\n",
       "      <th>1000000</th>\n",
       "      <td>81</td>\n",
       "      <td>118</td>\n",
       "      <td>288</td>\n",
       "    </tr>\n",
       "    <tr>\n",
       "      <th>2000000</th>\n",
       "      <td>72</td>\n",
       "      <td>94</td>\n",
       "      <td>193</td>\n",
       "    </tr>\n",
       "    <tr>\n",
       "      <th>5000000</th>\n",
       "      <td>24</td>\n",
       "      <td>29</td>\n",
       "      <td>46</td>\n",
       "    </tr>\n",
       "    <tr>\n",
       "      <th>10000000</th>\n",
       "      <td>13</td>\n",
       "      <td>13</td>\n",
       "      <td>21</td>\n",
       "    </tr>\n",
       "    <tr>\n",
       "      <th>20000000</th>\n",
       "      <td>2</td>\n",
       "      <td>2</td>\n",
       "      <td>3</td>\n",
       "    </tr>\n",
       "    <tr>\n",
       "      <th>50000000</th>\n",
       "      <td>1</td>\n",
       "      <td>1</td>\n",
       "      <td>2</td>\n",
       "    </tr>\n",
       "    <tr>\n",
       "      <th>100000000</th>\n",
       "      <td>1</td>\n",
       "      <td>1</td>\n",
       "      <td>1</td>\n",
       "    </tr>\n",
       "  </tbody>\n",
       "</table>\n",
       "</div>"
      ],
      "text/plain": [
       "           linux   mac  windows\n",
       "owners                         \n",
       "0           2987  4806    18591\n",
       "20000        717  1092     3059\n",
       "50000        429   640     1694\n",
       "100000       395   538     1386\n",
       "200000       372   528     1272\n",
       "500000       140   203      513\n",
       "1000000       81   118      288\n",
       "2000000       72    94      193\n",
       "5000000       24    29       46\n",
       "10000000      13    13       21\n",
       "20000000       2     2        3\n",
       "50000000       1     1        2\n",
       "100000000      1     1        1"
      ]
     },
     "execution_count": 124,
     "metadata": {},
     "output_type": "execute_result"
    }
   ],
   "source": [
    "df1=df.groupby(\"owners\").sum()[[\"linux\",\"mac\",\"windows\"]].sort_values(\"owners\")\n",
    "df1"
   ]
  },
  {
   "cell_type": "code",
   "execution_count": 125,
   "metadata": {},
   "outputs": [
    {
     "data": {
      "image/png": "[encoded data removed]",
      "text/plain": [
       "<Figure size 720x720 with 1 Axes>"
      ]
     },
     "metadata": {
      "needs_background": "light"
     },
     "output_type": "display_data"
    }
   ],
   "source": [
    "# create plot\n",
    "fig, ax = plt.subplots(figsize=(10,10))\n",
    "index = np.arange(len(df1))\n",
    "bar_width = 0.25\n",
    "opacity = 0.8\n",
    "\n",
    "rects1 = plt.bar(index, df1[\"windows\"], bar_width,\n",
    "alpha=opacity,\n",
    "color='b',\n",
    "label='windows')\n",
    "\n",
    "rects2 = plt.bar(index + bar_width, df1[\"linux\"], bar_width,\n",
    "alpha=opacity,\n",
    "color='g',\n",
    "label='linux')\n",
    "\n",
    "rects3 = plt.bar(index + 2*bar_width, df1[\"mac\"], bar_width,\n",
    "alpha=opacity,\n",
    "color='r',\n",
    "label='mac')\n",
    "\n",
    "plt.xlabel('Owner range')\n",
    "plt.ylabel('Number')\n",
    "plt.title('Number of games by OS by number of owners')\n",
    "plt.xticks(index, df1.index,rotation=45)\n",
    "\n",
    "plt.legend()\n",
    "\n",
    "plt.tight_layout()\n",
    "plt.show()"
   ]
  },
  {
   "cell_type": "code",
   "execution_count": 126,
   "metadata": {
    "colab": {
     "base_uri": "https://localhost:8080/",
     "height": 197
    },
    "id": "yCYIQ4Y1V3Zs",
    "outputId": "ab992c37-70b8-46fa-97a2-78c02cecfb74"
   },
   "outputs": [],
   "source": [
    "# df2 = pd.read_csv(\"SteamCharts.csv\",encoding= 'unicode_escape')\n",
    "# df2.head()"
   ]
  },
  {
   "cell_type": "code",
   "execution_count": 127,
   "metadata": {
    "colab": {
     "base_uri": "https://localhost:8080/",
     "height": 197
    },
    "id": "qIecht-YV3ki",
    "outputId": "5d365c76-e6a1-459c-d7f4-be7344911406"
   },
   "outputs": [],
   "source": [
    "# df3 = pd.read_csv(\"steam_reviews.csv\",encoding= 'unicode_escape')\n",
    "# df3.head()"
   ]
  },
  {
   "cell_type": "code",
   "execution_count": 140,
   "metadata": {},
   "outputs": [
    {
     "data": {
      "text/plain": [
       "Action;Indie                                                                1852\n",
       "Casual;Indie                                                                1482\n",
       "Action;Adventure;Indie                                                      1229\n",
       "Adventure;Indie                                                             1170\n",
       "Action;Casual;Indie                                                         1004\n",
       "                                                                            ... \n",
       "Violent;Action;Adventure;Indie;Simulation;Early Access                         1\n",
       "Simulation;Education;Software Training                                         1\n",
       "Action;Massively Multiplayer;Strategy                                          1\n",
       "Adventure;Free to Play;Massively Multiplayer;RPG;Simulation;Early Access       1\n",
       "Action;Casual;Free to Play;Massively Multiplayer;Sports                        1\n",
       "Name: genres, Length: 1552, dtype: int64"
      ]
     },
     "execution_count": 140,
     "metadata": {},
     "output_type": "execute_result"
    }
   ],
   "source": [
    "df.genres.value_counts()"
   ]
  },
  {
   "cell_type": "code",
   "execution_count": 128,
   "metadata": {
    "colab": {
     "base_uri": "https://localhost:8080/",
     "height": 297
    },
    "id": "h0xhmP-SYjn7",
    "outputId": "b7dca963-bd87-4f32-b4f7-2b5e7f1865a7"
   },
   "outputs": [
    {
     "data": {
      "text/plain": [
       "<AxesSubplot:xlabel='positive_ratings', ylabel='negative_ratings'>"
      ]
     },
     "execution_count": 128,
     "metadata": {},
     "output_type": "execute_result"
    },
    {
     "data": {
      "image/png": "[encoded data removed]",
      "text/plain": [
       "<Figure size 432x288 with 1 Axes>"
      ]
     },
     "metadata": {
      "needs_background": "light"
     },
     "output_type": "display_data"
    }
   ],
   "source": [
    "sns.scatterplot(data=df, x=\"positive_ratings\", y=\"negative_ratings\")"
   ]
  },
  {
   "cell_type": "code",
   "execution_count": 129,
   "metadata": {
    "colab": {
     "base_uri": "https://localhost:8080/",
     "height": 307
    },
    "id": "r8Wfoeg740PK",
    "outputId": "f911f277-00bd-4de9-9000-2ce008efcc3e"
   },
   "outputs": [
    {
     "data": {
      "text/plain": [
       "<AxesSubplot:xlabel='price', ylabel='positive_ratings'>"
      ]
     },
     "execution_count": 129,
     "metadata": {},
     "output_type": "execute_result"
    },
    {
     "data": {
      "image/png": "[encoded data removed]",
      "text/plain": [
       "<Figure size 432x288 with 1 Axes>"
      ]
     },
     "metadata": {
      "needs_background": "light"
     },
     "output_type": "display_data"
    }
   ],
   "source": [
    "sns.scatterplot(data=df, x=\"price\", y=\"positive_ratings\")"
   ]
  },
  {
   "cell_type": "code",
   "execution_count": 130,
   "metadata": {
    "colab": {
     "base_uri": "https://localhost:8080/",
     "height": 296
    },
    "id": "iW8UtkjY44_z",
    "outputId": "463c4516-71d9-4f1d-94e1-8e6dc538d736"
   },
   "outputs": [
    {
     "data": {
      "text/plain": [
       "<AxesSubplot:xlabel='price', ylabel='negative_ratings'>"
      ]
     },
     "execution_count": 130,
     "metadata": {},
     "output_type": "execute_result"
    },
    {
     "data": {
      "image/png": "[encoded data removed]",
      "text/plain": [
       "<Figure size 432x288 with 1 Axes>"
      ]
     },
     "metadata": {
      "needs_background": "light"
     },
     "output_type": "display_data"
    }
   ],
   "source": [
    "sns.scatterplot(data=df, x=\"price\", y=\"negative_ratings\")"
   ]
  },
  {
   "cell_type": "code",
   "execution_count": 131,
   "metadata": {
    "colab": {
     "base_uri": "https://localhost:8080/",
     "height": 297
    },
    "id": "4PqpLrGQ1QSE",
    "outputId": "b51c85fa-24cd-4179-f5c4-19c8af29259c"
   },
   "outputs": [
    {
     "data": {
      "text/plain": [
       "<AxesSubplot:xlabel='required_age', ylabel='price'>"
      ]
     },
     "execution_count": 131,
     "metadata": {},
     "output_type": "execute_result"
    },
    {
     "data": {
      "image/png": "[encoded data removed]",
      "text/plain": [
       "<Figure size 432x288 with 1 Axes>"
      ]
     },
     "metadata": {
      "needs_background": "light"
     },
     "output_type": "display_data"
    }
   ],
   "source": [
    "sns.barplot(data=df, x=\"required_age\", y=\"price\")"
   ]
  },
  {
   "cell_type": "code",
   "execution_count": 132,
   "metadata": {
    "colab": {
     "base_uri": "https://localhost:8080/",
     "height": 386
    },
    "id": "lnSomReFYC_c",
    "outputId": "a74748c5-957b-48d6-d32e-6aceef222e60"
   },
   "outputs": [
    {
     "data": {
      "text/plain": [
       "<seaborn.axisgrid.FacetGrid at 0x21509924910>"
      ]
     },
     "execution_count": 132,
     "metadata": {},
     "output_type": "execute_result"
    },
    {
     "data": {
      "image/png": "[encoded data removed]",
      "text/plain": [
       "<Figure size 360x360 with 1 Axes>"
      ]
     },
     "metadata": {
      "needs_background": "light"
     },
     "output_type": "display_data"
    }
   ],
   "source": [
    "sns.displot(df, x=\"rating\", binwidth=2)"
   ]
  },
  {
   "cell_type": "code",
   "execution_count": 139,
   "metadata": {},
   "outputs": [
    {
     "data": {
      "image/png": "[encoded data removed]",
      "text/plain": [
       "<Figure size 432x288 with 2 Axes>"
      ]
     },
     "metadata": {
      "needs_background": "light"
     },
     "output_type": "display_data"
    }
   ],
   "source": [
    "#always remember your magic function if using Jupyter\n",
    "%matplotlib inline\n",
    "sns.heatmap(abs(df.corr()))\n",
    "plt.show()"
   ]
  },
  {
   "cell_type": "code",
   "execution_count": null,
   "metadata": {},
   "outputs": [],
   "source": []
  }
 ],
 "metadata": {
  "colab": {
   "authorship_tag": "ABX9TyNXXEPLLTW8f3et35AHbWYK",
   "name": "graficos.ipynb",
   "provenance": []
  },
  "kernelspec": {
   "display_name": "Python 3",
   "language": "python",
   "name": "python3"
  },
  "language_info": {
   "codemirror_mode": {
    "name": "ipython",
    "version": 3
   },
   "file_extension": ".py",
   "mimetype": "text/x-python",
   "name": "python",
   "nbconvert_exporter": "python",
   "pygments_lexer": "ipython3",
   "version": "3.8.5"
  }
 },
 "nbformat": 4,
 "nbformat_minor": 1
}
