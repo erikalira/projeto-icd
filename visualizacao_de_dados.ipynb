{
  "nbformat": 4,
  "nbformat_minor": 0,
  "metadata": {
    "colab": {
      "name": "graficos.ipynb",
      "provenance": [],
      "authorship_tag": "ABX9TyNXXEPLLTW8f3et35AHbWYK"
    },
    "kernelspec": {
      "name": "python3",
      "display_name": "Python 3"
    },
    "language_info": {
      "name": "python"
    }
  },
  "cells": [
    {
      "cell_type": "code",
      "metadata": {
        "colab": {
          "base_uri": "https://localhost:8080/",
          "height": 534
        },
        "id": "TaVSHzJERuvw",
        "outputId": "787c4826-17b0-4e82-a70b-342a8795bc4d"
      },
      "source": [
        "import pandas as pd\n",
        "import seaborn as sns\n",
        "\n",
        "df = pd.read_csv(\"steam.csv\",encoding= 'unicode_escape')\n",
        "df.head()"
      ],
      "execution_count": 15,
      "outputs": [
        {
          "output_type": "execute_result",
          "data": {
            "text/html": [
              "<div>\n",
              "<style scoped>\n",
              "    .dataframe tbody tr th:only-of-type {\n",
              "        vertical-align: middle;\n",
              "    }\n",
              "\n",
              "    .dataframe tbody tr th {\n",
              "        vertical-align: top;\n",
              "    }\n",
              "\n",
              "    .dataframe thead th {\n",
              "        text-align: right;\n",
              "    }\n",
              "</style>\n",
              "<table border=\"1\" class=\"dataframe\">\n",
              "  <thead>\n",
              "    <tr style=\"text-align: right;\">\n",
              "      <th></th>\n",
              "      <th>appid</th>\n",
              "      <th>name</th>\n",
              "      <th>release_date</th>\n",
              "      <th>english</th>\n",
              "      <th>developer</th>\n",
              "      <th>publisher</th>\n",
              "      <th>platforms</th>\n",
              "      <th>required_age</th>\n",
              "      <th>categories</th>\n",
              "      <th>genres</th>\n",
              "      <th>steamspy_tags</th>\n",
              "      <th>achievements</th>\n",
              "      <th>positive_ratings</th>\n",
              "      <th>negative_ratings</th>\n",
              "      <th>average_playtime</th>\n",
              "      <th>median_playtime</th>\n",
              "      <th>owners</th>\n",
              "      <th>price</th>\n",
              "    </tr>\n",
              "  </thead>\n",
              "  <tbody>\n",
              "    <tr>\n",
              "      <th>0</th>\n",
              "      <td>10</td>\n",
              "      <td>Counter-Strike</td>\n",
              "      <td>2000-11-01</td>\n",
              "      <td>1</td>\n",
              "      <td>Valve</td>\n",
              "      <td>Valve</td>\n",
              "      <td>windows;mac;linux</td>\n",
              "      <td>0</td>\n",
              "      <td>Multi-player;Online Multi-Player;Local Multi-P...</td>\n",
              "      <td>Action</td>\n",
              "      <td>Action;FPS;Multiplayer</td>\n",
              "      <td>0.0</td>\n",
              "      <td>124534.0</td>\n",
              "      <td>3339.0</td>\n",
              "      <td>17612.0</td>\n",
              "      <td>317</td>\n",
              "      <td>10000000-20000000</td>\n",
              "      <td>7.19</td>\n",
              "    </tr>\n",
              "    <tr>\n",
              "      <th>1</th>\n",
              "      <td>20</td>\n",
              "      <td>Team Fortress Classic</td>\n",
              "      <td>1999-04-01</td>\n",
              "      <td>1</td>\n",
              "      <td>Valve</td>\n",
              "      <td>Valve</td>\n",
              "      <td>windows;mac;linux</td>\n",
              "      <td>0</td>\n",
              "      <td>Multi-player;Online Multi-Player;Local Multi-P...</td>\n",
              "      <td>Action</td>\n",
              "      <td>Action;FPS;Multiplayer</td>\n",
              "      <td>0.0</td>\n",
              "      <td>3318.0</td>\n",
              "      <td>633.0</td>\n",
              "      <td>277.0</td>\n",
              "      <td>62</td>\n",
              "      <td>5000000-10000000</td>\n",
              "      <td>3.99</td>\n",
              "    </tr>\n",
              "    <tr>\n",
              "      <th>2</th>\n",
              "      <td>30</td>\n",
              "      <td>Day of Defeat</td>\n",
              "      <td>2003-05-01</td>\n",
              "      <td>1</td>\n",
              "      <td>Valve</td>\n",
              "      <td>Valve</td>\n",
              "      <td>windows;mac;linux</td>\n",
              "      <td>0</td>\n",
              "      <td>Multi-player;Valve Anti-Cheat enabled</td>\n",
              "      <td>Action</td>\n",
              "      <td>FPS;World War II;Multiplayer</td>\n",
              "      <td>0.0</td>\n",
              "      <td>3416.0</td>\n",
              "      <td>398.0</td>\n",
              "      <td>187.0</td>\n",
              "      <td>34</td>\n",
              "      <td>5000000-10000000</td>\n",
              "      <td>3.99</td>\n",
              "    </tr>\n",
              "    <tr>\n",
              "      <th>3</th>\n",
              "      <td>40</td>\n",
              "      <td>Deathmatch Classic</td>\n",
              "      <td>2001-06-01</td>\n",
              "      <td>1</td>\n",
              "      <td>Valve</td>\n",
              "      <td>Valve</td>\n",
              "      <td>windows;mac;linux</td>\n",
              "      <td>0</td>\n",
              "      <td>Multi-player;Online Multi-Player;Local Multi-P...</td>\n",
              "      <td>Action</td>\n",
              "      <td>Action;FPS;Multiplayer</td>\n",
              "      <td>0.0</td>\n",
              "      <td>1273.0</td>\n",
              "      <td>267.0</td>\n",
              "      <td>258.0</td>\n",
              "      <td>184</td>\n",
              "      <td>5000000-10000000</td>\n",
              "      <td>3.99</td>\n",
              "    </tr>\n",
              "    <tr>\n",
              "      <th>4</th>\n",
              "      <td>50</td>\n",
              "      <td>Half-Life: Opposing Force</td>\n",
              "      <td>1999-11-01</td>\n",
              "      <td>1</td>\n",
              "      <td>Gearbox Software</td>\n",
              "      <td>Valve</td>\n",
              "      <td>windows;mac;linux</td>\n",
              "      <td>0</td>\n",
              "      <td>Single-player;Multi-player;Valve Anti-Cheat en...</td>\n",
              "      <td>Action</td>\n",
              "      <td>FPS;Action;Sci-fi</td>\n",
              "      <td>0.0</td>\n",
              "      <td>5250.0</td>\n",
              "      <td>288.0</td>\n",
              "      <td>624.0</td>\n",
              "      <td>415</td>\n",
              "      <td>5000000-10000000</td>\n",
              "      <td>3.99</td>\n",
              "    </tr>\n",
              "  </tbody>\n",
              "</table>\n",
              "</div>"
            ],
            "text/plain": [
              "  appid                       name  ...             owners price\n",
              "0    10             Counter-Strike  ...  10000000-20000000  7.19\n",
              "1    20      Team Fortress Classic  ...   5000000-10000000  3.99\n",
              "2    30              Day of Defeat  ...   5000000-10000000  3.99\n",
              "3    40         Deathmatch Classic  ...   5000000-10000000  3.99\n",
              "4    50  Half-Life: Opposing Force  ...   5000000-10000000  3.99\n",
              "\n",
              "[5 rows x 18 columns]"
            ]
          },
          "metadata": {
            "tags": []
          },
          "execution_count": 15
        }
      ]
    },
    {
      "cell_type": "code",
      "metadata": {
        "colab": {
          "base_uri": "https://localhost:8080/",
          "height": 197
        },
        "id": "yCYIQ4Y1V3Zs",
        "outputId": "ab992c37-70b8-46fa-97a2-78c02cecfb74"
      },
      "source": [
        "# df2 = pd.read_csv(\"SteamCharts.csv\",encoding= 'unicode_escape')\n",
        "# df2.head()"
      ],
      "execution_count": 16,
      "outputs": [
        {
          "output_type": "execute_result",
          "data": {
            "text/html": [
              "<div>\n",
              "<style scoped>\n",
              "    .dataframe tbody tr th:only-of-type {\n",
              "        vertical-align: middle;\n",
              "    }\n",
              "\n",
              "    .dataframe tbody tr th {\n",
              "        vertical-align: top;\n",
              "    }\n",
              "\n",
              "    .dataframe thead th {\n",
              "        text-align: right;\n",
              "    }\n",
              "</style>\n",
              "<table border=\"1\" class=\"dataframe\">\n",
              "  <thead>\n",
              "    <tr style=\"text-align: right;\">\n",
              "      <th></th>\n",
              "      <th>gamename</th>\n",
              "      <th>year</th>\n",
              "      <th>month</th>\n",
              "      <th>avg</th>\n",
              "      <th>gain</th>\n",
              "      <th>peak</th>\n",
              "      <th>avg_peak_perc</th>\n",
              "    </tr>\n",
              "  </thead>\n",
              "  <tbody>\n",
              "    <tr>\n",
              "      <th>0</th>\n",
              "      <td>Counter-Strike: Global Offensive</td>\n",
              "      <td>2021</td>\n",
              "      <td>February</td>\n",
              "      <td>741013.24</td>\n",
              "      <td>-2196.42</td>\n",
              "      <td>1123485</td>\n",
              "      <td>65.9567%</td>\n",
              "    </tr>\n",
              "    <tr>\n",
              "      <th>1</th>\n",
              "      <td>Counter-Strike: Global Offensive</td>\n",
              "      <td>2021</td>\n",
              "      <td>January</td>\n",
              "      <td>743209.66</td>\n",
              "      <td>25405.91</td>\n",
              "      <td>1124553</td>\n",
              "      <td>66.0893%</td>\n",
              "    </tr>\n",
              "    <tr>\n",
              "      <th>2</th>\n",
              "      <td>Counter-Strike: Global Offensive</td>\n",
              "      <td>2020</td>\n",
              "      <td>December</td>\n",
              "      <td>717803.75</td>\n",
              "      <td>49049.17</td>\n",
              "      <td>1164396</td>\n",
              "      <td>61.646%</td>\n",
              "    </tr>\n",
              "    <tr>\n",
              "      <th>3</th>\n",
              "      <td>Counter-Strike: Global Offensive</td>\n",
              "      <td>2020</td>\n",
              "      <td>November</td>\n",
              "      <td>668754.58</td>\n",
              "      <td>55087.89</td>\n",
              "      <td>1037464</td>\n",
              "      <td>64.4605%</td>\n",
              "    </tr>\n",
              "    <tr>\n",
              "      <th>4</th>\n",
              "      <td>Counter-Strike: Global Offensive</td>\n",
              "      <td>2020</td>\n",
              "      <td>October</td>\n",
              "      <td>613666.69</td>\n",
              "      <td>6816.37</td>\n",
              "      <td>943876</td>\n",
              "      <td>65.0156%</td>\n",
              "    </tr>\n",
              "  </tbody>\n",
              "</table>\n",
              "</div>"
            ],
            "text/plain": [
              "                           gamename  year  ...     peak  avg_peak_perc\n",
              "0  Counter-Strike: Global Offensive  2021  ...  1123485       65.9567%\n",
              "1  Counter-Strike: Global Offensive  2021  ...  1124553       66.0893%\n",
              "2  Counter-Strike: Global Offensive  2020  ...  1164396        61.646%\n",
              "3  Counter-Strike: Global Offensive  2020  ...  1037464       64.4605%\n",
              "4  Counter-Strike: Global Offensive  2020  ...   943876       65.0156%\n",
              "\n",
              "[5 rows x 7 columns]"
            ]
          },
          "metadata": {
            "tags": []
          },
          "execution_count": 16
        }
      ]
    },
    {
      "cell_type": "code",
      "metadata": {
        "colab": {
          "base_uri": "https://localhost:8080/",
          "height": 197
        },
        "id": "qIecht-YV3ki",
        "outputId": "5d365c76-e6a1-459c-d7f4-be7344911406"
      },
      "source": [
        "# df3 = pd.read_csv(\"steam_reviews.csv\",encoding= 'unicode_escape')\n",
        "# df3.head()"
      ],
      "execution_count": 17,
      "outputs": [
        {
          "output_type": "execute_result",
          "data": {
            "text/html": [
              "<div>\n",
              "<style scoped>\n",
              "    .dataframe tbody tr th:only-of-type {\n",
              "        vertical-align: middle;\n",
              "    }\n",
              "\n",
              "    .dataframe tbody tr th {\n",
              "        vertical-align: top;\n",
              "    }\n",
              "\n",
              "    .dataframe thead th {\n",
              "        text-align: right;\n",
              "    }\n",
              "</style>\n",
              "<table border=\"1\" class=\"dataframe\">\n",
              "  <thead>\n",
              "    <tr style=\"text-align: right;\">\n",
              "      <th></th>\n",
              "      <th>date_posted</th>\n",
              "      <th>funny</th>\n",
              "      <th>helpful</th>\n",
              "      <th>hour_played</th>\n",
              "      <th>is_early_access_review</th>\n",
              "      <th>recommendation</th>\n",
              "      <th>review</th>\n",
              "      <th>title</th>\n",
              "    </tr>\n",
              "  </thead>\n",
              "  <tbody>\n",
              "    <tr>\n",
              "      <th>0</th>\n",
              "      <td>2019-02-10</td>\n",
              "      <td>2</td>\n",
              "      <td>4</td>\n",
              "      <td>578</td>\n",
              "      <td>False</td>\n",
              "      <td>Recommended</td>\n",
              "      <td>&amp;gt Played as German Reich&amp;gt Declare war on B...</td>\n",
              "      <td>Expansion - Hearts of Iron IV: Man the Guns</td>\n",
              "    </tr>\n",
              "    <tr>\n",
              "      <th>1</th>\n",
              "      <td>2019-02-10</td>\n",
              "      <td>0</td>\n",
              "      <td>0</td>\n",
              "      <td>184</td>\n",
              "      <td>False</td>\n",
              "      <td>Recommended</td>\n",
              "      <td>yes.</td>\n",
              "      <td>Expansion - Hearts of Iron IV: Man the Guns</td>\n",
              "    </tr>\n",
              "    <tr>\n",
              "      <th>2</th>\n",
              "      <td>2019-02-07</td>\n",
              "      <td>0</td>\n",
              "      <td>0</td>\n",
              "      <td>892</td>\n",
              "      <td>False</td>\n",
              "      <td>Recommended</td>\n",
              "      <td>Very good game although a bit overpriced in my...</td>\n",
              "      <td>Expansion - Hearts of Iron IV: Man the Guns</td>\n",
              "    </tr>\n",
              "    <tr>\n",
              "      <th>3</th>\n",
              "      <td>2018-06-14</td>\n",
              "      <td>126</td>\n",
              "      <td>1086</td>\n",
              "      <td>676</td>\n",
              "      <td>False</td>\n",
              "      <td>Recommended</td>\n",
              "      <td>Out of all the reviews I wrote This one is pro...</td>\n",
              "      <td>Dead by Daylight</td>\n",
              "    </tr>\n",
              "    <tr>\n",
              "      <th>4</th>\n",
              "      <td>2017-06-20</td>\n",
              "      <td>85</td>\n",
              "      <td>2139</td>\n",
              "      <td>612</td>\n",
              "      <td>False</td>\n",
              "      <td>Recommended</td>\n",
              "      <td>Disclaimer I survivor main. I play games for f...</td>\n",
              "      <td>Dead by Daylight</td>\n",
              "    </tr>\n",
              "  </tbody>\n",
              "</table>\n",
              "</div>"
            ],
            "text/plain": [
              "  date_posted  ...                                        title\n",
              "0  2019-02-10  ...  Expansion - Hearts of Iron IV: Man the Guns\n",
              "1  2019-02-10  ...  Expansion - Hearts of Iron IV: Man the Guns\n",
              "2  2019-02-07  ...  Expansion - Hearts of Iron IV: Man the Guns\n",
              "3  2018-06-14  ...                             Dead by Daylight\n",
              "4  2017-06-20  ...                             Dead by Daylight\n",
              "\n",
              "[5 rows x 8 columns]"
            ]
          },
          "metadata": {
            "tags": []
          },
          "execution_count": 17
        }
      ]
    },
    {
      "cell_type": "code",
      "metadata": {
        "colab": {
          "base_uri": "https://localhost:8080/",
          "height": 943
        },
        "id": "xuq6NhDmVxRA",
        "outputId": "d0db8e65-90aa-48a5-93e5-2e21dce20609"
      },
      "source": [
        "df[\"rating\"] = (df[\"positive_ratings\"]/(df[\"positive_ratings\"]+df[\"negative_ratings\"]))*100\n",
        "df"
      ],
      "execution_count": 21,
      "outputs": [
        {
          "output_type": "execute_result",
          "data": {
            "text/html": [
              "<div>\n",
              "<style scoped>\n",
              "    .dataframe tbody tr th:only-of-type {\n",
              "        vertical-align: middle;\n",
              "    }\n",
              "\n",
              "    .dataframe tbody tr th {\n",
              "        vertical-align: top;\n",
              "    }\n",
              "\n",
              "    .dataframe thead th {\n",
              "        text-align: right;\n",
              "    }\n",
              "</style>\n",
              "<table border=\"1\" class=\"dataframe\">\n",
              "  <thead>\n",
              "    <tr style=\"text-align: right;\">\n",
              "      <th></th>\n",
              "      <th>appid</th>\n",
              "      <th>name</th>\n",
              "      <th>release_date</th>\n",
              "      <th>english</th>\n",
              "      <th>developer</th>\n",
              "      <th>publisher</th>\n",
              "      <th>platforms</th>\n",
              "      <th>required_age</th>\n",
              "      <th>categories</th>\n",
              "      <th>genres</th>\n",
              "      <th>steamspy_tags</th>\n",
              "      <th>achievements</th>\n",
              "      <th>positive_ratings</th>\n",
              "      <th>negative_ratings</th>\n",
              "      <th>average_playtime</th>\n",
              "      <th>median_playtime</th>\n",
              "      <th>owners</th>\n",
              "      <th>price</th>\n",
              "      <th>rating</th>\n",
              "    </tr>\n",
              "  </thead>\n",
              "  <tbody>\n",
              "    <tr>\n",
              "      <th>0</th>\n",
              "      <td>10</td>\n",
              "      <td>Counter-Strike</td>\n",
              "      <td>2000-11-01</td>\n",
              "      <td>1</td>\n",
              "      <td>Valve</td>\n",
              "      <td>Valve</td>\n",
              "      <td>windows;mac;linux</td>\n",
              "      <td>0</td>\n",
              "      <td>Multi-player;Online Multi-Player;Local Multi-P...</td>\n",
              "      <td>Action</td>\n",
              "      <td>Action;FPS;Multiplayer</td>\n",
              "      <td>0.0</td>\n",
              "      <td>124534.0</td>\n",
              "      <td>3339.0</td>\n",
              "      <td>17612.0</td>\n",
              "      <td>317</td>\n",
              "      <td>10000000-20000000</td>\n",
              "      <td>7.19</td>\n",
              "      <td>97.388815</td>\n",
              "    </tr>\n",
              "    <tr>\n",
              "      <th>1</th>\n",
              "      <td>20</td>\n",
              "      <td>Team Fortress Classic</td>\n",
              "      <td>1999-04-01</td>\n",
              "      <td>1</td>\n",
              "      <td>Valve</td>\n",
              "      <td>Valve</td>\n",
              "      <td>windows;mac;linux</td>\n",
              "      <td>0</td>\n",
              "      <td>Multi-player;Online Multi-Player;Local Multi-P...</td>\n",
              "      <td>Action</td>\n",
              "      <td>Action;FPS;Multiplayer</td>\n",
              "      <td>0.0</td>\n",
              "      <td>3318.0</td>\n",
              "      <td>633.0</td>\n",
              "      <td>277.0</td>\n",
              "      <td>62</td>\n",
              "      <td>5000000-10000000</td>\n",
              "      <td>3.99</td>\n",
              "      <td>83.978740</td>\n",
              "    </tr>\n",
              "    <tr>\n",
              "      <th>2</th>\n",
              "      <td>30</td>\n",
              "      <td>Day of Defeat</td>\n",
              "      <td>2003-05-01</td>\n",
              "      <td>1</td>\n",
              "      <td>Valve</td>\n",
              "      <td>Valve</td>\n",
              "      <td>windows;mac;linux</td>\n",
              "      <td>0</td>\n",
              "      <td>Multi-player;Valve Anti-Cheat enabled</td>\n",
              "      <td>Action</td>\n",
              "      <td>FPS;World War II;Multiplayer</td>\n",
              "      <td>0.0</td>\n",
              "      <td>3416.0</td>\n",
              "      <td>398.0</td>\n",
              "      <td>187.0</td>\n",
              "      <td>34</td>\n",
              "      <td>5000000-10000000</td>\n",
              "      <td>3.99</td>\n",
              "      <td>89.564761</td>\n",
              "    </tr>\n",
              "    <tr>\n",
              "      <th>3</th>\n",
              "      <td>40</td>\n",
              "      <td>Deathmatch Classic</td>\n",
              "      <td>2001-06-01</td>\n",
              "      <td>1</td>\n",
              "      <td>Valve</td>\n",
              "      <td>Valve</td>\n",
              "      <td>windows;mac;linux</td>\n",
              "      <td>0</td>\n",
              "      <td>Multi-player;Online Multi-Player;Local Multi-P...</td>\n",
              "      <td>Action</td>\n",
              "      <td>Action;FPS;Multiplayer</td>\n",
              "      <td>0.0</td>\n",
              "      <td>1273.0</td>\n",
              "      <td>267.0</td>\n",
              "      <td>258.0</td>\n",
              "      <td>184</td>\n",
              "      <td>5000000-10000000</td>\n",
              "      <td>3.99</td>\n",
              "      <td>82.662338</td>\n",
              "    </tr>\n",
              "    <tr>\n",
              "      <th>4</th>\n",
              "      <td>50</td>\n",
              "      <td>Half-Life: Opposing Force</td>\n",
              "      <td>1999-11-01</td>\n",
              "      <td>1</td>\n",
              "      <td>Gearbox Software</td>\n",
              "      <td>Valve</td>\n",
              "      <td>windows;mac;linux</td>\n",
              "      <td>0</td>\n",
              "      <td>Single-player;Multi-player;Valve Anti-Cheat en...</td>\n",
              "      <td>Action</td>\n",
              "      <td>FPS;Action;Sci-fi</td>\n",
              "      <td>0.0</td>\n",
              "      <td>5250.0</td>\n",
              "      <td>288.0</td>\n",
              "      <td>624.0</td>\n",
              "      <td>415</td>\n",
              "      <td>5000000-10000000</td>\n",
              "      <td>3.99</td>\n",
              "      <td>94.799567</td>\n",
              "    </tr>\n",
              "    <tr>\n",
              "      <th>...</th>\n",
              "      <td>...</td>\n",
              "      <td>...</td>\n",
              "      <td>...</td>\n",
              "      <td>...</td>\n",
              "      <td>...</td>\n",
              "      <td>...</td>\n",
              "      <td>...</td>\n",
              "      <td>...</td>\n",
              "      <td>...</td>\n",
              "      <td>...</td>\n",
              "      <td>...</td>\n",
              "      <td>...</td>\n",
              "      <td>...</td>\n",
              "      <td>...</td>\n",
              "      <td>...</td>\n",
              "      <td>...</td>\n",
              "      <td>...</td>\n",
              "      <td>...</td>\n",
              "      <td>...</td>\n",
              "    </tr>\n",
              "    <tr>\n",
              "      <th>27071</th>\n",
              "      <td>1065230</td>\n",
              "      <td>Room of Pandora</td>\n",
              "      <td>2019-04-24</td>\n",
              "      <td>1</td>\n",
              "      <td>SHEN JIAWEI</td>\n",
              "      <td>SHEN JIAWEI</td>\n",
              "      <td>windows</td>\n",
              "      <td>0</td>\n",
              "      <td>Single-player;Steam Achievements</td>\n",
              "      <td>Adventure;Casual;Indie</td>\n",
              "      <td>Adventure;Indie;Casual</td>\n",
              "      <td>7.0</td>\n",
              "      <td>3.0</td>\n",
              "      <td>0.0</td>\n",
              "      <td>0.0</td>\n",
              "      <td>0</td>\n",
              "      <td>0-20000</td>\n",
              "      <td>2.09</td>\n",
              "      <td>100.000000</td>\n",
              "    </tr>\n",
              "    <tr>\n",
              "      <th>27072</th>\n",
              "      <td>1065570</td>\n",
              "      <td>Cyber Gun</td>\n",
              "      <td>2019-04-23</td>\n",
              "      <td>1</td>\n",
              "      <td>Semyon Maximov</td>\n",
              "      <td>BekkerDev Studio</td>\n",
              "      <td>windows</td>\n",
              "      <td>0</td>\n",
              "      <td>Single-player</td>\n",
              "      <td>Action;Adventure;Indie</td>\n",
              "      <td>Action;Indie;Adventure</td>\n",
              "      <td>0.0</td>\n",
              "      <td>8.0</td>\n",
              "      <td>1.0</td>\n",
              "      <td>0.0</td>\n",
              "      <td>0</td>\n",
              "      <td>0-20000</td>\n",
              "      <td>1.69</td>\n",
              "      <td>88.888889</td>\n",
              "    </tr>\n",
              "    <tr>\n",
              "      <th>27073</th>\n",
              "      <td>1065650</td>\n",
              "      <td>Super Star Blast</td>\n",
              "      <td>2019-04-24</td>\n",
              "      <td>1</td>\n",
              "      <td>EntwicklerX</td>\n",
              "      <td>EntwicklerX</td>\n",
              "      <td>windows</td>\n",
              "      <td>0</td>\n",
              "      <td>Single-player;Multi-player;Co-op;Shared/Split ...</td>\n",
              "      <td>Action;Casual;Indie</td>\n",
              "      <td>Action;Indie;Casual</td>\n",
              "      <td>24.0</td>\n",
              "      <td>0.0</td>\n",
              "      <td>1.0</td>\n",
              "      <td>0.0</td>\n",
              "      <td>0</td>\n",
              "      <td>0-20000</td>\n",
              "      <td>3.99</td>\n",
              "      <td>0.000000</td>\n",
              "    </tr>\n",
              "    <tr>\n",
              "      <th>27074</th>\n",
              "      <td>1066700</td>\n",
              "      <td>New Yankee 7: Deer Hunters</td>\n",
              "      <td>2019-04-17</td>\n",
              "      <td>1</td>\n",
              "      <td>Yustas Game Studio</td>\n",
              "      <td>Alawar Entertainment</td>\n",
              "      <td>windows;mac</td>\n",
              "      <td>0</td>\n",
              "      <td>Single-player;Steam Cloud</td>\n",
              "      <td>Adventure;Casual;Indie</td>\n",
              "      <td>Indie;Casual;Adventure</td>\n",
              "      <td>0.0</td>\n",
              "      <td>2.0</td>\n",
              "      <td>0.0</td>\n",
              "      <td>0.0</td>\n",
              "      <td>0</td>\n",
              "      <td>0-20000</td>\n",
              "      <td>5.19</td>\n",
              "      <td>100.000000</td>\n",
              "    </tr>\n",
              "    <tr>\n",
              "      <th>27075</th>\n",
              "      <td>1069460</td>\n",
              "      <td>Rune Lord</td>\n",
              "      <td>2019-04-24</td>\n",
              "      <td>1</td>\n",
              "      <td>Adept Studios GD</td>\n",
              "      <td>Alawar Entertainment</td>\n",
              "      <td>windows;mac</td>\n",
              "      <td>0</td>\n",
              "      <td>Single-player;Steam Cloud</td>\n",
              "      <td>Adventure;Casual;Indie</td>\n",
              "      <td>Indie;Casual;Adventure</td>\n",
              "      <td>0.0</td>\n",
              "      <td>4.0</td>\n",
              "      <td>0.0</td>\n",
              "      <td>0.0</td>\n",
              "      <td>0</td>\n",
              "      <td>0-20000</td>\n",
              "      <td>5.19</td>\n",
              "      <td>100.000000</td>\n",
              "    </tr>\n",
              "  </tbody>\n",
              "</table>\n",
              "<p>27076 rows × 19 columns</p>\n",
              "</div>"
            ],
            "text/plain": [
              "         appid                        name  ... price      rating\n",
              "0           10              Counter-Strike  ...  7.19   97.388815\n",
              "1           20       Team Fortress Classic  ...  3.99   83.978740\n",
              "2           30               Day of Defeat  ...  3.99   89.564761\n",
              "3           40          Deathmatch Classic  ...  3.99   82.662338\n",
              "4           50   Half-Life: Opposing Force  ...  3.99   94.799567\n",
              "...        ...                         ...  ...   ...         ...\n",
              "27071  1065230             Room of Pandora  ...  2.09  100.000000\n",
              "27072  1065570                   Cyber Gun  ...  1.69   88.888889\n",
              "27073  1065650            Super Star Blast  ...  3.99    0.000000\n",
              "27074  1066700  New Yankee 7: Deer Hunters  ...  5.19  100.000000\n",
              "27075  1069460                   Rune Lord  ...  5.19  100.000000\n",
              "\n",
              "[27076 rows x 19 columns]"
            ]
          },
          "metadata": {
            "tags": []
          },
          "execution_count": 21
        }
      ]
    },
    {
      "cell_type": "code",
      "metadata": {
        "colab": {
          "base_uri": "https://localhost:8080/",
          "height": 297
        },
        "id": "h0xhmP-SYjn7",
        "outputId": "b7dca963-bd87-4f32-b4f7-2b5e7f1865a7"
      },
      "source": [
        "sns.scatterplot(data=df, x=\"positive_ratings\", y=\"negative_ratings\")"
      ],
      "execution_count": 6,
      "outputs": [
        {
          "output_type": "execute_result",
          "data": {
            "text/plain": [
              "<matplotlib.axes._subplots.AxesSubplot at 0x7f57b0f73c90>"
            ]
          },
          "metadata": {
            "tags": []
          },
          "execution_count": 6
        },
        {
          "output_type": "display_data",
          "data": {
            "image/png": "[encoded data removed]",
            "text/plain": [
              "<Figure size 432x288 with 1 Axes>"
            ]
          },
          "metadata": {
            "tags": [],
            "needs_background": "light"
          }
        }
      ]
    },
    {
      "cell_type": "code",
      "metadata": {
        "colab": {
          "base_uri": "https://localhost:8080/",
          "height": 307
        },
        "id": "r8Wfoeg740PK",
        "outputId": "f911f277-00bd-4de9-9000-2ce008efcc3e"
      },
      "source": [
        "sns.scatterplot(data=df, x=\"price\", y=\"positive_ratings\")"
      ],
      "execution_count": 13,
      "outputs": [
        {
          "output_type": "execute_result",
          "data": {
            "text/plain": [
              "<matplotlib.axes._subplots.AxesSubplot at 0x7f57ae1f7290>"
            ]
          },
          "metadata": {
            "tags": []
          },
          "execution_count": 13
        },
        {
          "output_type": "display_data",
          "data": {
            "image/png": "[encoded data removed]",
            "text/plain": [
              "<Figure size 432x288 with 1 Axes>"
            ]
          },
          "metadata": {
            "tags": [],
            "needs_background": "light"
          }
        }
      ]
    },
    {
      "cell_type": "code",
      "metadata": {
        "colab": {
          "base_uri": "https://localhost:8080/",
          "height": 296
        },
        "id": "iW8UtkjY44_z",
        "outputId": "463c4516-71d9-4f1d-94e1-8e6dc538d736"
      },
      "source": [
        "sns.scatterplot(data=df, x=\"price\", y=\"negative_ratings\")"
      ],
      "execution_count": 14,
      "outputs": [
        {
          "output_type": "execute_result",
          "data": {
            "text/plain": [
              "<matplotlib.axes._subplots.AxesSubplot at 0x7f57ae172c50>"
            ]
          },
          "metadata": {
            "tags": []
          },
          "execution_count": 14
        },
        {
          "output_type": "display_data",
          "data": {
            "image/png": "[encoded data removed]",
            "text/plain": [
              "<Figure size 432x288 with 1 Axes>"
            ]
          },
          "metadata": {
            "tags": [],
            "needs_background": "light"
          }
        }
      ]
    },
    {
      "cell_type": "code",
      "metadata": {
        "colab": {
          "base_uri": "https://localhost:8080/",
          "height": 297
        },
        "id": "4PqpLrGQ1QSE",
        "outputId": "b51c85fa-24cd-4179-f5c4-19c8af29259c"
      },
      "source": [
        "sns.barplot(data=df, x=\"required_age\", y=\"price\")"
      ],
      "execution_count": 23,
      "outputs": [
        {
          "output_type": "execute_result",
          "data": {
            "text/plain": [
              "<matplotlib.axes._subplots.AxesSubplot at 0x7f57a2381d50>"
            ]
          },
          "metadata": {
            "tags": []
          },
          "execution_count": 23
        },
        {
          "output_type": "display_data",
          "data": {
            "image/png": "[encoded data removed]",
            "text/plain": [
              "<Figure size 432x288 with 1 Axes>"
            ]
          },
          "metadata": {
            "tags": [],
            "needs_background": "light"
          }
        }
      ]
    },
    {
      "cell_type": "code",
      "metadata": {
        "colab": {
          "base_uri": "https://localhost:8080/",
          "height": 386
        },
        "id": "lnSomReFYC_c",
        "outputId": "a74748c5-957b-48d6-d32e-6aceef222e60"
      },
      "source": [
        "sns.displot(df, x=\"rating\", binwidth=2)"
      ],
      "execution_count": 31,
      "outputs": [
        {
          "output_type": "execute_result",
          "data": {
            "text/plain": [
              "<seaborn.axisgrid.FacetGrid at 0x7f57ae707ed0>"
            ]
          },
          "metadata": {
            "tags": []
          },
          "execution_count": 31
        },
        {
          "output_type": "display_data",
          "data": {
            "image/png": "[encoded data removed]",
            "text/plain": [
              "<Figure size 360x360 with 1 Axes>"
            ]
          },
          "metadata": {
            "tags": [],
            "needs_background": "light"
          }
        }
      ]
    }
  ]
}
