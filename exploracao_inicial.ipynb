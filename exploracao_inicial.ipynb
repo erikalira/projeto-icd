{
  "nbformat": 4,
  "nbformat_minor": 0,
  "metadata": {
    "kernelspec": {
      "display_name": "Python 3",
      "language": "python",
      "name": "python3"
    },
    "language_info": {
      "codemirror_mode": {
        "name": "ipython",
        "version": 3
      },
      "file_extension": ".py",
      "mimetype": "text/x-python",
      "name": "python",
      "nbconvert_exporter": "python",
      "pygments_lexer": "ipython3",
      "version": "3.8.5"
    },
    "colab": {
      "name": "exploracao_inicial.ipynb",
      "provenance": []
    }
  },
  "cells": [
    {
      "cell_type": "code",
      "metadata": {
        "colab": {
          "base_uri": "https://localhost:8080/",
          "height": 534
        },
        "id": "3eD9dapHGwaP",
        "outputId": "d98c7b4a-50da-4348-c662-0c7cfe95ecb0"
      },
      "source": [
        "import pandas as pd\n",
        "import numpy as np\n",
        "import matplotlib.pyplot as plt\n",
        "\n",
        "df = pd.read_csv(\"steam.csv\",encoding= 'unicode_escape')\n",
        "df.head()"
      ],
      "execution_count": null,
      "outputs": [
        {
          "output_type": "execute_result",
          "data": {
            "text/html": [
              "<div>\n",
              "<style scoped>\n",
              "    .dataframe tbody tr th:only-of-type {\n",
              "        vertical-align: middle;\n",
              "    }\n",
              "\n",
              "    .dataframe tbody tr th {\n",
              "        vertical-align: top;\n",
              "    }\n",
              "\n",
              "    .dataframe thead th {\n",
              "        text-align: right;\n",
              "    }\n",
              "</style>\n",
              "<table border=\"1\" class=\"dataframe\">\n",
              "  <thead>\n",
              "    <tr style=\"text-align: right;\">\n",
              "      <th></th>\n",
              "      <th>appid</th>\n",
              "      <th>name</th>\n",
              "      <th>release_date</th>\n",
              "      <th>english</th>\n",
              "      <th>developer</th>\n",
              "      <th>publisher</th>\n",
              "      <th>platforms</th>\n",
              "      <th>required_age</th>\n",
              "      <th>categories</th>\n",
              "      <th>genres</th>\n",
              "      <th>steamspy_tags</th>\n",
              "      <th>achievements</th>\n",
              "      <th>positive_ratings</th>\n",
              "      <th>negative_ratings</th>\n",
              "      <th>average_playtime</th>\n",
              "      <th>median_playtime</th>\n",
              "      <th>owners</th>\n",
              "      <th>price</th>\n",
              "    </tr>\n",
              "  </thead>\n",
              "  <tbody>\n",
              "    <tr>\n",
              "      <th>0</th>\n",
              "      <td>10</td>\n",
              "      <td>Counter-Strike</td>\n",
              "      <td>2000-11-01</td>\n",
              "      <td>1</td>\n",
              "      <td>Valve</td>\n",
              "      <td>Valve</td>\n",
              "      <td>windows;mac;linux</td>\n",
              "      <td>0</td>\n",
              "      <td>Multi-player;Online Multi-Player;Local Multi-P...</td>\n",
              "      <td>Action</td>\n",
              "      <td>Action;FPS;Multiplayer</td>\n",
              "      <td>0.0</td>\n",
              "      <td>124534.0</td>\n",
              "      <td>3339.0</td>\n",
              "      <td>17612.0</td>\n",
              "      <td>317</td>\n",
              "      <td>10000000-20000000</td>\n",
              "      <td>7.19</td>\n",
              "    </tr>\n",
              "    <tr>\n",
              "      <th>1</th>\n",
              "      <td>20</td>\n",
              "      <td>Team Fortress Classic</td>\n",
              "      <td>1999-04-01</td>\n",
              "      <td>1</td>\n",
              "      <td>Valve</td>\n",
              "      <td>Valve</td>\n",
              "      <td>windows;mac;linux</td>\n",
              "      <td>0</td>\n",
              "      <td>Multi-player;Online Multi-Player;Local Multi-P...</td>\n",
              "      <td>Action</td>\n",
              "      <td>Action;FPS;Multiplayer</td>\n",
              "      <td>0.0</td>\n",
              "      <td>3318.0</td>\n",
              "      <td>633.0</td>\n",
              "      <td>277.0</td>\n",
              "      <td>62</td>\n",
              "      <td>5000000-10000000</td>\n",
              "      <td>3.99</td>\n",
              "    </tr>\n",
              "    <tr>\n",
              "      <th>2</th>\n",
              "      <td>30</td>\n",
              "      <td>Day of Defeat</td>\n",
              "      <td>2003-05-01</td>\n",
              "      <td>1</td>\n",
              "      <td>Valve</td>\n",
              "      <td>Valve</td>\n",
              "      <td>windows;mac;linux</td>\n",
              "      <td>0</td>\n",
              "      <td>Multi-player;Valve Anti-Cheat enabled</td>\n",
              "      <td>Action</td>\n",
              "      <td>FPS;World War II;Multiplayer</td>\n",
              "      <td>0.0</td>\n",
              "      <td>3416.0</td>\n",
              "      <td>398.0</td>\n",
              "      <td>187.0</td>\n",
              "      <td>34</td>\n",
              "      <td>5000000-10000000</td>\n",
              "      <td>3.99</td>\n",
              "    </tr>\n",
              "    <tr>\n",
              "      <th>3</th>\n",
              "      <td>40</td>\n",
              "      <td>Deathmatch Classic</td>\n",
              "      <td>2001-06-01</td>\n",
              "      <td>1</td>\n",
              "      <td>Valve</td>\n",
              "      <td>Valve</td>\n",
              "      <td>windows;mac;linux</td>\n",
              "      <td>0</td>\n",
              "      <td>Multi-player;Online Multi-Player;Local Multi-P...</td>\n",
              "      <td>Action</td>\n",
              "      <td>Action;FPS;Multiplayer</td>\n",
              "      <td>0.0</td>\n",
              "      <td>1273.0</td>\n",
              "      <td>267.0</td>\n",
              "      <td>258.0</td>\n",
              "      <td>184</td>\n",
              "      <td>5000000-10000000</td>\n",
              "      <td>3.99</td>\n",
              "    </tr>\n",
              "    <tr>\n",
              "      <th>4</th>\n",
              "      <td>50</td>\n",
              "      <td>Half-Life: Opposing Force</td>\n",
              "      <td>1999-11-01</td>\n",
              "      <td>1</td>\n",
              "      <td>Gearbox Software</td>\n",
              "      <td>Valve</td>\n",
              "      <td>windows;mac;linux</td>\n",
              "      <td>0</td>\n",
              "      <td>Single-player;Multi-player;Valve Anti-Cheat en...</td>\n",
              "      <td>Action</td>\n",
              "      <td>FPS;Action;Sci-fi</td>\n",
              "      <td>0.0</td>\n",
              "      <td>5250.0</td>\n",
              "      <td>288.0</td>\n",
              "      <td>624.0</td>\n",
              "      <td>415</td>\n",
              "      <td>5000000-10000000</td>\n",
              "      <td>3.99</td>\n",
              "    </tr>\n",
              "  </tbody>\n",
              "</table>\n",
              "</div>"
            ],
            "text/plain": [
              "  appid                       name  ...             owners price\n",
              "0    10             Counter-Strike  ...  10000000-20000000  7.19\n",
              "1    20      Team Fortress Classic  ...   5000000-10000000  3.99\n",
              "2    30              Day of Defeat  ...   5000000-10000000  3.99\n",
              "3    40         Deathmatch Classic  ...   5000000-10000000  3.99\n",
              "4    50  Half-Life: Opposing Force  ...   5000000-10000000  3.99\n",
              "\n",
              "[5 rows x 18 columns]"
            ]
          },
          "metadata": {
            "tags": []
          },
          "execution_count": 1
        }
      ]
    },
    {
      "cell_type": "code",
      "metadata": {
        "id": "QhWse2yeJ1an"
      },
      "source": [
        ""
      ],
      "execution_count": null,
      "outputs": []
    },
    {
      "cell_type": "code",
      "metadata": {
        "colab": {
          "base_uri": "https://localhost:8080/",
          "height": 281
        },
        "id": "l7VxIRaDGwag",
        "outputId": "1f8d45f5-9afb-4cac-c768-0ca9895f159a"
      },
      "source": [
        "x = [\"Média\", \"Mediana\", \"Desvio Padrão\"]\n",
        "y = [np.mean(df['price']), np.nanmedian(df['price']), np.std(df['price'])]\n",
        "plt.barh(x, y)\n",
        "\n",
        "for index, value in enumerate(y):\n",
        "    plt.text(value, index, str(value)[:3])\n",
        "plt.title(\"Price\")\n",
        "plt.show()"
      ],
      "execution_count": null,
      "outputs": [
        {
          "output_type": "display_data",
          "data": {
            "image/png": "[encoded data removed]",
            "text/plain": [
              "<Figure size 432x288 with 1 Axes>"
            ]
          },
          "metadata": {
            "tags": [],
            "needs_background": "light"
          }
        }
      ]
    },
    {
      "cell_type": "code",
      "metadata": {
        "colab": {
          "base_uri": "https://localhost:8080/",
          "height": 287
        },
        "id": "VrNw1nbHG2Rq",
        "outputId": "4a0802d1-c060-4515-c0d1-57dd3fd210d2"
      },
      "source": [
        "df.boxplot(column=\"average_playtime\")"
      ],
      "execution_count": null,
      "outputs": [
        {
          "output_type": "execute_result",
          "data": {
            "text/plain": [
              "<matplotlib.axes._subplots.AxesSubplot at 0x7f8f7d7a9310>"
            ]
          },
          "metadata": {
            "tags": []
          },
          "execution_count": 3
        },
        {
          "output_type": "display_data",
          "data": {
            "image/png": "[encoded data removed]",
            "text/plain": [
              "<Figure size 432x288 with 1 Axes>"
            ]
          },
          "metadata": {
            "tags": [],
            "needs_background": "light"
          }
        }
      ]
    },
    {
      "cell_type": "code",
      "metadata": {
        "colab": {
          "base_uri": "https://localhost:8080/"
        },
        "id": "p_9tzPRVI54q",
        "outputId": "0542c169-df8a-46fc-cf55-80b7fb2897fe"
      },
      "source": [
        "df[\"average_playtime\"].describe()"
      ],
      "execution_count": null,
      "outputs": [
        {
          "output_type": "execute_result",
          "data": {
            "text/plain": [
              "count     27075.000000\n",
              "mean        149.804949\n",
              "std        1827.038141\n",
              "min           0.000000\n",
              "25%           0.000000\n",
              "50%           0.000000\n",
              "75%           0.000000\n",
              "max      190625.000000\n",
              "Name: average_playtime, dtype: float64"
            ]
          },
          "metadata": {
            "tags": []
          },
          "execution_count": 4
        }
      ]
    },
    {
      "cell_type": "code",
      "metadata": {
        "colab": {
          "base_uri": "https://localhost:8080/",
          "height": 282
        },
        "id": "3WTWRUvbHgEE",
        "outputId": "27672480-bb47-4cdb-d374-53d92303563a"
      },
      "source": [
        "df.boxplot(column=\"price\")"
      ],
      "execution_count": null,
      "outputs": [
        {
          "output_type": "execute_result",
          "data": {
            "text/plain": [
              "<matplotlib.axes._subplots.AxesSubplot at 0x7f8f7d7eb650>"
            ]
          },
          "metadata": {
            "tags": []
          },
          "execution_count": 5
        },
        {
          "output_type": "display_data",
          "data": {
            "image/png": "[encoded data removed]",
            "text/plain": [
              "<Figure size 432x288 with 1 Axes>"
            ]
          },
          "metadata": {
            "tags": [],
            "needs_background": "light"
          }
        }
      ]
    },
    {
      "cell_type": "code",
      "metadata": {
        "colab": {
          "base_uri": "https://localhost:8080/"
        },
        "id": "tE0zSCG5JAx2",
        "outputId": "1b8e0d52-3b99-435b-f9fa-0ebd02aa31ad"
      },
      "source": [
        "df[\"price\"].describe()"
      ],
      "execution_count": null,
      "outputs": [
        {
          "output_type": "execute_result",
          "data": {
            "text/plain": [
              "count    27074.000000\n",
              "mean         6.078226\n",
              "std          7.875066\n",
              "min          0.000000\n",
              "25%          1.690000\n",
              "50%          3.990000\n",
              "75%          7.190000\n",
              "max        421.990000\n",
              "Name: price, dtype: float64"
            ]
          },
          "metadata": {
            "tags": []
          },
          "execution_count": 6
        }
      ]
    }
  ]
}