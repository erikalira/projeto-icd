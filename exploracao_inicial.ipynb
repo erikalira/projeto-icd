{
 "cells": [
  {
   "cell_type": "markdown",
   "metadata": {},
   "source": [
    "# Imports e ajuste dos dados"
   ]
  },
  {
   "cell_type": "code",
   "execution_count": 1,
   "metadata": {
    "colab": {
     "base_uri": "https://localhost:8080/",
     "height": 534
    },
    "id": "3eD9dapHGwaP",
    "outputId": "d98c7b4a-50da-4348-c662-0c7cfe95ecb0"
   },
   "outputs": [],
   "source": [
    "import pandas as pd\n",
    "import numpy as np\n",
    "import matplotlib.pyplot as plt"
   ]
  },
  {
   "cell_type": "code",
   "execution_count": 2,
   "metadata": {
    "colab": {
     "base_uri": "https://localhost:8080/",
     "height": 534
    },
    "id": "3eD9dapHGwaP",
    "outputId": "d98c7b4a-50da-4348-c662-0c7cfe95ecb0"
   },
   "outputs": [
    {
     "data": {
      "text/html": [
       "<div>\n",
       "<style scoped>\n",
       "    .dataframe tbody tr th:only-of-type {\n",
       "        vertical-align: middle;\n",
       "    }\n",
       "\n",
       "    .dataframe tbody tr th {\n",
       "        vertical-align: top;\n",
       "    }\n",
       "\n",
       "    .dataframe thead th {\n",
       "        text-align: right;\n",
       "    }\n",
       "</style>\n",
       "<table border=\"1\" class=\"dataframe\">\n",
       "  <thead>\n",
       "    <tr style=\"text-align: right;\">\n",
       "      <th></th>\n",
       "      <th>appid</th>\n",
       "      <th>name</th>\n",
       "      <th>release_date</th>\n",
       "      <th>english</th>\n",
       "      <th>developer</th>\n",
       "      <th>publisher</th>\n",
       "      <th>platforms</th>\n",
       "      <th>required_age</th>\n",
       "      <th>categories</th>\n",
       "      <th>genres</th>\n",
       "      <th>steamspy_tags</th>\n",
       "      <th>achievements</th>\n",
       "      <th>positive_ratings</th>\n",
       "      <th>negative_ratings</th>\n",
       "      <th>average_playtime</th>\n",
       "      <th>median_playtime</th>\n",
       "      <th>owners</th>\n",
       "      <th>price</th>\n",
       "      <th>rating</th>\n",
       "      <th>totalRatings</th>\n",
       "    </tr>\n",
       "  </thead>\n",
       "  <tbody>\n",
       "    <tr>\n",
       "      <th>0</th>\n",
       "      <td>10</td>\n",
       "      <td>Counter-Strike</td>\n",
       "      <td>2000-11-01</td>\n",
       "      <td>1</td>\n",
       "      <td>Valve</td>\n",
       "      <td>Valve</td>\n",
       "      <td>windows;mac;linux</td>\n",
       "      <td>0</td>\n",
       "      <td>Multi-player;Online Multi-Player;Local Multi-P...</td>\n",
       "      <td>Action</td>\n",
       "      <td>Action;FPS;Multiplayer</td>\n",
       "      <td>0.0</td>\n",
       "      <td>124534.0</td>\n",
       "      <td>3339.0</td>\n",
       "      <td>17612.0</td>\n",
       "      <td>317</td>\n",
       "      <td>10000000-20000000</td>\n",
       "      <td>7.19</td>\n",
       "      <td>97.388815</td>\n",
       "      <td>127873.0</td>\n",
       "    </tr>\n",
       "    <tr>\n",
       "      <th>1</th>\n",
       "      <td>20</td>\n",
       "      <td>Team Fortress Classic</td>\n",
       "      <td>1999-04-01</td>\n",
       "      <td>1</td>\n",
       "      <td>Valve</td>\n",
       "      <td>Valve</td>\n",
       "      <td>windows;mac;linux</td>\n",
       "      <td>0</td>\n",
       "      <td>Multi-player;Online Multi-Player;Local Multi-P...</td>\n",
       "      <td>Action</td>\n",
       "      <td>Action;FPS;Multiplayer</td>\n",
       "      <td>0.0</td>\n",
       "      <td>3318.0</td>\n",
       "      <td>633.0</td>\n",
       "      <td>277.0</td>\n",
       "      <td>62</td>\n",
       "      <td>5000000-10000000</td>\n",
       "      <td>3.99</td>\n",
       "      <td>83.978740</td>\n",
       "      <td>3951.0</td>\n",
       "    </tr>\n",
       "    <tr>\n",
       "      <th>2</th>\n",
       "      <td>30</td>\n",
       "      <td>Day of Defeat</td>\n",
       "      <td>2003-05-01</td>\n",
       "      <td>1</td>\n",
       "      <td>Valve</td>\n",
       "      <td>Valve</td>\n",
       "      <td>windows;mac;linux</td>\n",
       "      <td>0</td>\n",
       "      <td>Multi-player;Valve Anti-Cheat enabled</td>\n",
       "      <td>Action</td>\n",
       "      <td>FPS;World War II;Multiplayer</td>\n",
       "      <td>0.0</td>\n",
       "      <td>3416.0</td>\n",
       "      <td>398.0</td>\n",
       "      <td>187.0</td>\n",
       "      <td>34</td>\n",
       "      <td>5000000-10000000</td>\n",
       "      <td>3.99</td>\n",
       "      <td>89.564761</td>\n",
       "      <td>3814.0</td>\n",
       "    </tr>\n",
       "    <tr>\n",
       "      <th>3</th>\n",
       "      <td>40</td>\n",
       "      <td>Deathmatch Classic</td>\n",
       "      <td>2001-06-01</td>\n",
       "      <td>1</td>\n",
       "      <td>Valve</td>\n",
       "      <td>Valve</td>\n",
       "      <td>windows;mac;linux</td>\n",
       "      <td>0</td>\n",
       "      <td>Multi-player;Online Multi-Player;Local Multi-P...</td>\n",
       "      <td>Action</td>\n",
       "      <td>Action;FPS;Multiplayer</td>\n",
       "      <td>0.0</td>\n",
       "      <td>1273.0</td>\n",
       "      <td>267.0</td>\n",
       "      <td>258.0</td>\n",
       "      <td>184</td>\n",
       "      <td>5000000-10000000</td>\n",
       "      <td>3.99</td>\n",
       "      <td>82.662338</td>\n",
       "      <td>1540.0</td>\n",
       "    </tr>\n",
       "    <tr>\n",
       "      <th>4</th>\n",
       "      <td>50</td>\n",
       "      <td>Half-Life: Opposing Force</td>\n",
       "      <td>1999-11-01</td>\n",
       "      <td>1</td>\n",
       "      <td>Gearbox Software</td>\n",
       "      <td>Valve</td>\n",
       "      <td>windows;mac;linux</td>\n",
       "      <td>0</td>\n",
       "      <td>Single-player;Multi-player;Valve Anti-Cheat en...</td>\n",
       "      <td>Action</td>\n",
       "      <td>FPS;Action;Sci-fi</td>\n",
       "      <td>0.0</td>\n",
       "      <td>5250.0</td>\n",
       "      <td>288.0</td>\n",
       "      <td>624.0</td>\n",
       "      <td>415</td>\n",
       "      <td>5000000-10000000</td>\n",
       "      <td>3.99</td>\n",
       "      <td>94.799567</td>\n",
       "      <td>5538.0</td>\n",
       "    </tr>\n",
       "  </tbody>\n",
       "</table>\n",
       "</div>"
      ],
      "text/plain": [
       "  appid                       name release_date english         developer  \\\n",
       "0    10             Counter-Strike   2000-11-01       1             Valve   \n",
       "1    20      Team Fortress Classic   1999-04-01       1             Valve   \n",
       "2    30              Day of Defeat   2003-05-01       1             Valve   \n",
       "3    40         Deathmatch Classic   2001-06-01       1             Valve   \n",
       "4    50  Half-Life: Opposing Force   1999-11-01       1  Gearbox Software   \n",
       "\n",
       "  publisher          platforms required_age  \\\n",
       "0     Valve  windows;mac;linux            0   \n",
       "1     Valve  windows;mac;linux            0   \n",
       "2     Valve  windows;mac;linux            0   \n",
       "3     Valve  windows;mac;linux            0   \n",
       "4     Valve  windows;mac;linux            0   \n",
       "\n",
       "                                          categories  genres  \\\n",
       "0  Multi-player;Online Multi-Player;Local Multi-P...  Action   \n",
       "1  Multi-player;Online Multi-Player;Local Multi-P...  Action   \n",
       "2              Multi-player;Valve Anti-Cheat enabled  Action   \n",
       "3  Multi-player;Online Multi-Player;Local Multi-P...  Action   \n",
       "4  Single-player;Multi-player;Valve Anti-Cheat en...  Action   \n",
       "\n",
       "                  steamspy_tags  achievements  positive_ratings  \\\n",
       "0        Action;FPS;Multiplayer           0.0          124534.0   \n",
       "1        Action;FPS;Multiplayer           0.0            3318.0   \n",
       "2  FPS;World War II;Multiplayer           0.0            3416.0   \n",
       "3        Action;FPS;Multiplayer           0.0            1273.0   \n",
       "4             FPS;Action;Sci-fi           0.0            5250.0   \n",
       "\n",
       "   negative_ratings  average_playtime median_playtime             owners  \\\n",
       "0            3339.0           17612.0             317  10000000-20000000   \n",
       "1             633.0             277.0              62   5000000-10000000   \n",
       "2             398.0             187.0              34   5000000-10000000   \n",
       "3             267.0             258.0             184   5000000-10000000   \n",
       "4             288.0             624.0             415   5000000-10000000   \n",
       "\n",
       "   price     rating  totalRatings  \n",
       "0   7.19  97.388815      127873.0  \n",
       "1   3.99  83.978740        3951.0  \n",
       "2   3.99  89.564761        3814.0  \n",
       "3   3.99  82.662338        1540.0  \n",
       "4   3.99  94.799567        5538.0  "
      ]
     },
     "execution_count": 2,
     "metadata": {},
     "output_type": "execute_result"
    }
   ],
   "source": [
    "df = pd.read_csv(\"database/steam.csv\",encoding= 'unicode_escape')\n",
    "df[\"rating\"]=df[\"positive_ratings\"]/(df[\"positive_ratings\"]+df[\"negative_ratings\"])*100\n",
    "df[\"totalRatings\"]=df[\"positive_ratings\"]+df[\"negative_ratings\"]\n",
    "df.head()"
   ]
  },
  {
   "cell_type": "markdown",
   "metadata": {},
   "source": [
    "# Exploração inicial"
   ]
  },
  {
   "cell_type": "markdown",
   "metadata": {},
   "source": [
    "### Coluna Price"
   ]
  },
  {
   "cell_type": "markdown",
   "metadata": {},
   "source": [
    "Nesta célula podemos notar que o valor dos jogos tem uma diferença entre a média e a mediana relativamente grande (4 para 6 libras esterlinas) e que isso se deve a um grande número de valores outliers como podemos ver no gráfico, onde o terceiro quartil está localizado em 7.19 e o valor máximo da base para o preço é de 421 libras esterlinas. Ao pesquisar notamos que o valor do jogo ADR-Labelling Game realmente era de 421 libras, porém foi reduzido para algo em torno de 15 libras no começo desse ano. Infelizmente como temos muitos jogos acima de um valor considerado outlier"
   ]
  },
  {
   "cell_type": "code",
   "execution_count": 3,
   "metadata": {},
   "outputs": [
    {
     "name": "stdout",
     "output_type": "stream",
     "text": [
      "Nome do jogo mais caro:\n",
      "['ADR-Labelling Game']\n"
     ]
    }
   ],
   "source": [
    "df.price.describe()\n",
    "print(\"Nome do jogo mais caro:\")\n",
    "print(df[df[\"price\"]==421.99].name.tolist())"
   ]
  },
  {
   "cell_type": "markdown",
   "metadata": {},
   "source": [
    "Por definição um outlier é todo dado acima do valor do terceiro quartil + 3* o intervalo inter-quartis"
   ]
  },
  {
   "cell_type": "code",
   "execution_count": 4,
   "metadata": {},
   "outputs": [
    {
     "name": "stdout",
     "output_type": "stream",
     "text": [
      "Contando Outliers:\n",
      "1975\n"
     ]
    }
   ],
   "source": [
    "IQR=df.price.describe()[\"75%\"]-df.price.describe()[\"25%\"]\n",
    "outerLimit=df.price.describe()[\"75%\"]+1.5*IQR\n",
    "print(\"Contando Outliers:\")\n",
    "print(len(df[df[\"price\"]>outerLimit]))"
   ]
  },
  {
   "cell_type": "markdown",
   "metadata": {},
   "source": [
    "Gráfico do boxplot do campo price com e sem os outliers"
   ]
  },
  {
   "cell_type": "code",
   "execution_count": 5,
   "metadata": {
    "colab": {
     "base_uri": "https://localhost:8080/",
     "height": 282
    },
    "id": "3WTWRUvbHgEE",
    "outputId": "27672480-bb47-4cdb-d374-53d92303563a"
   },
   "outputs": [
    {
     "data": {
      "text/plain": [
       "<AxesSubplot:>"
      ]
     },
     "execution_count": 5,
     "metadata": {},
     "output_type": "execute_result"
    },
    {
     "data": {
      "image/png": "[encoded data removed]",
      "text/plain": [
       "<Figure size 432x288 with 2 Axes>"
      ]
     },
     "metadata": {
      "needs_background": "light"
     },
     "output_type": "display_data"
    }
   ],
   "source": [
    "fig, axs = plt.subplots(ncols=2)\n",
    "df.boxplot(column=\"price\", ax=axs[0])\n",
    "df[df[\"price\"]<outerLimit].boxplot(column=\"price\", ax=axs[1])"
   ]
  },
  {
   "cell_type": "markdown",
   "metadata": {},
   "source": [
    "### Coluna Achievements"
   ]
  },
  {
   "cell_type": "markdown",
   "metadata": {},
   "source": [
    "Analisando o número de achievements pode ser interessante em casos onde queremos ver por exemplo o efeito que o desenvolvedor trás pro jogo ao dar esse incentivo a mais para o jogador buscar atividades dentro do jogo."
   ]
  },
  {
   "cell_type": "code",
   "execution_count": 6,
   "metadata": {},
   "outputs": [
    {
     "name": "stdout",
     "output_type": "stream",
     "text": [
      "count    27075.000000\n",
      "mean        45.249271\n",
      "std        352.670235\n",
      "min          0.000000\n",
      "25%          0.000000\n",
      "50%          7.000000\n",
      "75%         23.000000\n",
      "max       9821.000000\n",
      "Name: achievements, dtype: float64\n",
      "Nome do jogo com 9821 achievements:\n",
      "['LOGistICAL']\n"
     ]
    }
   ],
   "source": [
    "print(df.achievements.describe())\n",
    "print(\"Nome do jogo com 9821 achievements:\")\n",
    "print(df[df[\"achievements\"]==9821].name.tolist())"
   ]
  },
  {
   "cell_type": "code",
   "execution_count": 7,
   "metadata": {},
   "outputs": [
    {
     "name": "stdout",
     "output_type": "stream",
     "text": [
      "Contando Outliers:\n",
      "1695\n"
     ]
    }
   ],
   "source": [
    "IQR=df.achievements.describe()[\"75%\"]-df.achievements.describe()[\"25%\"]\n",
    "outerLimit=df.achievements.describe()[\"75%\"]+1.5*IQR\n",
    "print(\"Contando Outliers:\")\n",
    "print(len(df[df[\"achievements\"]>outerLimit]))"
   ]
  },
  {
   "cell_type": "code",
   "execution_count": 8,
   "metadata": {},
   "outputs": [
    {
     "data": {
      "text/plain": [
       "<AxesSubplot:>"
      ]
     },
     "execution_count": 8,
     "metadata": {},
     "output_type": "execute_result"
    },
    {
     "data": {
      "image/png": "[encoded data removed]",
      "text/plain": [
       "<Figure size 432x288 with 2 Axes>"
      ]
     },
     "metadata": {
      "needs_background": "light"
     },
     "output_type": "display_data"
    }
   ],
   "source": [
    "fig, axs = plt.subplots(ncols=2)\n",
    "df.boxplot(column=\"achievements\", ax=axs[0])\n",
    "df[df[\"achievements\"]<outerLimit].boxplot(column=\"achievements\", ax=axs[1])"
   ]
  },
  {
   "cell_type": "code",
   "execution_count": 9,
   "metadata": {
    "colab": {
     "base_uri": "https://localhost:8080/",
     "height": 287
    },
    "id": "VrNw1nbHG2Rq",
    "outputId": "4a0802d1-c060-4515-c0d1-57dd3fd210d2"
   },
   "outputs": [
    {
     "data": {
      "text/plain": [
       "<AxesSubplot:>"
      ]
     },
     "execution_count": 9,
     "metadata": {},
     "output_type": "execute_result"
    },
    {
     "data": {
      "image/png": "[encoded data removed]",
      "text/plain": [
       "<Figure size 432x288 with 1 Axes>"
      ]
     },
     "metadata": {
      "needs_background": "light"
     },
     "output_type": "display_data"
    }
   ],
   "source": [
    "df.boxplot(column=\"average_playtime\")"
   ]
  },
  {
   "cell_type": "code",
   "execution_count": 10,
   "metadata": {
    "colab": {
     "base_uri": "https://localhost:8080/"
    },
    "id": "p_9tzPRVI54q",
    "outputId": "0542c169-df8a-46fc-cf55-80b7fb2897fe"
   },
   "outputs": [
    {
     "data": {
      "text/plain": [
       "count     27075.000000\n",
       "mean        149.804949\n",
       "std        1827.038141\n",
       "min           0.000000\n",
       "25%           0.000000\n",
       "50%           0.000000\n",
       "75%           0.000000\n",
       "max      190625.000000\n",
       "Name: average_playtime, dtype: float64"
      ]
     },
     "execution_count": 10,
     "metadata": {},
     "output_type": "execute_result"
    }
   ],
   "source": [
    "df[\"average_playtime\"].describe()"
   ]
  },
  {
   "cell_type": "code",
   "execution_count": 11,
   "metadata": {
    "colab": {
     "base_uri": "https://localhost:8080/"
    },
    "id": "tE0zSCG5JAx2",
    "outputId": "1b8e0d52-3b99-435b-f9fa-0ebd02aa31ad"
   },
   "outputs": [
    {
     "data": {
      "text/plain": [
       "count    27075.000000\n",
       "mean        71.449639\n",
       "std         23.359702\n",
       "min          0.000000\n",
       "25%         58.333333\n",
       "50%         76.038339\n",
       "75%         89.393939\n",
       "max        100.000000\n",
       "Name: rating, dtype: float64"
      ]
     },
     "execution_count": 11,
     "metadata": {},
     "output_type": "execute_result"
    }
   ],
   "source": [
    "df[\"rating\"].describe()"
   ]
  },
  {
   "cell_type": "code",
   "execution_count": null,
   "metadata": {},
   "outputs": [],
   "source": []
  }
 ],
 "metadata": {
  "colab": {
   "name": "exploracao_inicial.ipynb",
   "provenance": []
  },
  "kernelspec": {
   "display_name": "Python 3",
   "language": "python",
   "name": "python3"
  },
  "language_info": {
   "codemirror_mode": {
    "name": "ipython",
    "version": 3
   },
   "file_extension": ".py",
   "mimetype": "text/x-python",
   "name": "python",
   "nbconvert_exporter": "python",
   "pygments_lexer": "ipython3",
   "version": "3.8.5"
  }
 },
 "nbformat": 4,
 "nbformat_minor": 1
}
